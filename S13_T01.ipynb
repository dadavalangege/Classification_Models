{
 "cells": [
  {
   "cell_type": "markdown",
   "id": "a4384f0f",
   "metadata": {},
   "source": [
    "- Exercici 5\n",
    "\n",
    "Realitza algun procés d’enginyeria de variables per millorar-ne la predicció"
   ]
  },
  {
   "cell_type": "code",
   "execution_count": 1,
   "id": "0bb08745",
   "metadata": {},
   "outputs": [],
   "source": [
    "import pandas as pd\n",
    "import numpy as np\n",
    "import seaborn as sns\n",
    "import matplotlib.pyplot as plt\n",
    "from sklearn.preprocessing import StandardScaler\n",
    "from sklearn.model_selection import train_test_split\n",
    "from sklearn import metrics\n",
    "from imblearn.over_sampling import SMOTE\n",
    "from imblearn.under_sampling import RandomUnderSampler\n",
    "from sklearn.tree import DecisionTreeClassifier\n",
    "from sklearn.model_selection import cross_validate\n",
    "from sklearn.model_selection import cross_val_score\n",
    "from sklearn.metrics import roc_auc_score\n",
    "from sklearn.model_selection import RepeatedStratifiedKFold\n",
    "from sklearn.linear_model import LogisticRegression\n",
    "import xgboost as xgb\n",
    "from sklearn.experimental import enable_halving_search_cv\n",
    "from sklearn.model_selection import HalvingGridSearchCV\n",
    "\n",
    "\n",
    "import warnings\n",
    "warnings.filterwarnings('ignore')"
   ]
  },
  {
   "cell_type": "code",
   "execution_count": 2,
   "id": "1e623a30",
   "metadata": {},
   "outputs": [
    {
     "data": {
      "text/html": [
       "<div>\n",
       "<style scoped>\n",
       "    .dataframe tbody tr th:only-of-type {\n",
       "        vertical-align: middle;\n",
       "    }\n",
       "\n",
       "    .dataframe tbody tr th {\n",
       "        vertical-align: top;\n",
       "    }\n",
       "\n",
       "    .dataframe thead th {\n",
       "        text-align: right;\n",
       "    }\n",
       "</style>\n",
       "<table border=\"1\" class=\"dataframe\">\n",
       "  <thead>\n",
       "    <tr style=\"text-align: right;\">\n",
       "      <th></th>\n",
       "      <th>Unnamed: 0</th>\n",
       "      <th>Year</th>\n",
       "      <th>Month</th>\n",
       "      <th>DayofMonth</th>\n",
       "      <th>DayOfWeek</th>\n",
       "      <th>DepTime</th>\n",
       "      <th>CRSDepTime</th>\n",
       "      <th>ArrTime</th>\n",
       "      <th>CRSArrTime</th>\n",
       "      <th>UniqueCarrier</th>\n",
       "      <th>...</th>\n",
       "      <th>TaxiIn</th>\n",
       "      <th>TaxiOut</th>\n",
       "      <th>Cancelled</th>\n",
       "      <th>CancellationCode</th>\n",
       "      <th>Diverted</th>\n",
       "      <th>CarrierDelay</th>\n",
       "      <th>WeatherDelay</th>\n",
       "      <th>NASDelay</th>\n",
       "      <th>SecurityDelay</th>\n",
       "      <th>LateAircraftDelay</th>\n",
       "    </tr>\n",
       "  </thead>\n",
       "  <tbody>\n",
       "    <tr>\n",
       "      <th>0</th>\n",
       "      <td>0</td>\n",
       "      <td>2008</td>\n",
       "      <td>1</td>\n",
       "      <td>3</td>\n",
       "      <td>4</td>\n",
       "      <td>2003.0</td>\n",
       "      <td>1955</td>\n",
       "      <td>2211.0</td>\n",
       "      <td>2225</td>\n",
       "      <td>WN</td>\n",
       "      <td>...</td>\n",
       "      <td>4.0</td>\n",
       "      <td>8.0</td>\n",
       "      <td>0</td>\n",
       "      <td>N</td>\n",
       "      <td>0</td>\n",
       "      <td>NaN</td>\n",
       "      <td>NaN</td>\n",
       "      <td>NaN</td>\n",
       "      <td>NaN</td>\n",
       "      <td>NaN</td>\n",
       "    </tr>\n",
       "    <tr>\n",
       "      <th>1</th>\n",
       "      <td>1</td>\n",
       "      <td>2008</td>\n",
       "      <td>1</td>\n",
       "      <td>3</td>\n",
       "      <td>4</td>\n",
       "      <td>754.0</td>\n",
       "      <td>735</td>\n",
       "      <td>1002.0</td>\n",
       "      <td>1000</td>\n",
       "      <td>WN</td>\n",
       "      <td>...</td>\n",
       "      <td>5.0</td>\n",
       "      <td>10.0</td>\n",
       "      <td>0</td>\n",
       "      <td>N</td>\n",
       "      <td>0</td>\n",
       "      <td>NaN</td>\n",
       "      <td>NaN</td>\n",
       "      <td>NaN</td>\n",
       "      <td>NaN</td>\n",
       "      <td>NaN</td>\n",
       "    </tr>\n",
       "    <tr>\n",
       "      <th>2</th>\n",
       "      <td>2</td>\n",
       "      <td>2008</td>\n",
       "      <td>1</td>\n",
       "      <td>3</td>\n",
       "      <td>4</td>\n",
       "      <td>628.0</td>\n",
       "      <td>620</td>\n",
       "      <td>804.0</td>\n",
       "      <td>750</td>\n",
       "      <td>WN</td>\n",
       "      <td>...</td>\n",
       "      <td>3.0</td>\n",
       "      <td>17.0</td>\n",
       "      <td>0</td>\n",
       "      <td>N</td>\n",
       "      <td>0</td>\n",
       "      <td>NaN</td>\n",
       "      <td>NaN</td>\n",
       "      <td>NaN</td>\n",
       "      <td>NaN</td>\n",
       "      <td>NaN</td>\n",
       "    </tr>\n",
       "    <tr>\n",
       "      <th>3</th>\n",
       "      <td>4</td>\n",
       "      <td>2008</td>\n",
       "      <td>1</td>\n",
       "      <td>3</td>\n",
       "      <td>4</td>\n",
       "      <td>1829.0</td>\n",
       "      <td>1755</td>\n",
       "      <td>1959.0</td>\n",
       "      <td>1925</td>\n",
       "      <td>WN</td>\n",
       "      <td>...</td>\n",
       "      <td>3.0</td>\n",
       "      <td>10.0</td>\n",
       "      <td>0</td>\n",
       "      <td>N</td>\n",
       "      <td>0</td>\n",
       "      <td>2.0</td>\n",
       "      <td>0.0</td>\n",
       "      <td>0.0</td>\n",
       "      <td>0.0</td>\n",
       "      <td>32.0</td>\n",
       "    </tr>\n",
       "    <tr>\n",
       "      <th>4</th>\n",
       "      <td>5</td>\n",
       "      <td>2008</td>\n",
       "      <td>1</td>\n",
       "      <td>3</td>\n",
       "      <td>4</td>\n",
       "      <td>1940.0</td>\n",
       "      <td>1915</td>\n",
       "      <td>2121.0</td>\n",
       "      <td>2110</td>\n",
       "      <td>WN</td>\n",
       "      <td>...</td>\n",
       "      <td>4.0</td>\n",
       "      <td>10.0</td>\n",
       "      <td>0</td>\n",
       "      <td>N</td>\n",
       "      <td>0</td>\n",
       "      <td>NaN</td>\n",
       "      <td>NaN</td>\n",
       "      <td>NaN</td>\n",
       "      <td>NaN</td>\n",
       "      <td>NaN</td>\n",
       "    </tr>\n",
       "    <tr>\n",
       "      <th>...</th>\n",
       "      <td>...</td>\n",
       "      <td>...</td>\n",
       "      <td>...</td>\n",
       "      <td>...</td>\n",
       "      <td>...</td>\n",
       "      <td>...</td>\n",
       "      <td>...</td>\n",
       "      <td>...</td>\n",
       "      <td>...</td>\n",
       "      <td>...</td>\n",
       "      <td>...</td>\n",
       "      <td>...</td>\n",
       "      <td>...</td>\n",
       "      <td>...</td>\n",
       "      <td>...</td>\n",
       "      <td>...</td>\n",
       "      <td>...</td>\n",
       "      <td>...</td>\n",
       "      <td>...</td>\n",
       "      <td>...</td>\n",
       "      <td>...</td>\n",
       "    </tr>\n",
       "    <tr>\n",
       "      <th>1936753</th>\n",
       "      <td>7009710</td>\n",
       "      <td>2008</td>\n",
       "      <td>12</td>\n",
       "      <td>13</td>\n",
       "      <td>6</td>\n",
       "      <td>1250.0</td>\n",
       "      <td>1220</td>\n",
       "      <td>1617.0</td>\n",
       "      <td>1552</td>\n",
       "      <td>DL</td>\n",
       "      <td>...</td>\n",
       "      <td>9.0</td>\n",
       "      <td>18.0</td>\n",
       "      <td>0</td>\n",
       "      <td>N</td>\n",
       "      <td>0</td>\n",
       "      <td>3.0</td>\n",
       "      <td>0.0</td>\n",
       "      <td>0.0</td>\n",
       "      <td>0.0</td>\n",
       "      <td>22.0</td>\n",
       "    </tr>\n",
       "    <tr>\n",
       "      <th>1936754</th>\n",
       "      <td>7009717</td>\n",
       "      <td>2008</td>\n",
       "      <td>12</td>\n",
       "      <td>13</td>\n",
       "      <td>6</td>\n",
       "      <td>657.0</td>\n",
       "      <td>600</td>\n",
       "      <td>904.0</td>\n",
       "      <td>749</td>\n",
       "      <td>DL</td>\n",
       "      <td>...</td>\n",
       "      <td>15.0</td>\n",
       "      <td>34.0</td>\n",
       "      <td>0</td>\n",
       "      <td>N</td>\n",
       "      <td>0</td>\n",
       "      <td>0.0</td>\n",
       "      <td>57.0</td>\n",
       "      <td>18.0</td>\n",
       "      <td>0.0</td>\n",
       "      <td>0.0</td>\n",
       "    </tr>\n",
       "    <tr>\n",
       "      <th>1936755</th>\n",
       "      <td>7009718</td>\n",
       "      <td>2008</td>\n",
       "      <td>12</td>\n",
       "      <td>13</td>\n",
       "      <td>6</td>\n",
       "      <td>1007.0</td>\n",
       "      <td>847</td>\n",
       "      <td>1149.0</td>\n",
       "      <td>1010</td>\n",
       "      <td>DL</td>\n",
       "      <td>...</td>\n",
       "      <td>8.0</td>\n",
       "      <td>32.0</td>\n",
       "      <td>0</td>\n",
       "      <td>N</td>\n",
       "      <td>0</td>\n",
       "      <td>1.0</td>\n",
       "      <td>0.0</td>\n",
       "      <td>19.0</td>\n",
       "      <td>0.0</td>\n",
       "      <td>79.0</td>\n",
       "    </tr>\n",
       "    <tr>\n",
       "      <th>1936756</th>\n",
       "      <td>7009726</td>\n",
       "      <td>2008</td>\n",
       "      <td>12</td>\n",
       "      <td>13</td>\n",
       "      <td>6</td>\n",
       "      <td>1251.0</td>\n",
       "      <td>1240</td>\n",
       "      <td>1446.0</td>\n",
       "      <td>1437</td>\n",
       "      <td>DL</td>\n",
       "      <td>...</td>\n",
       "      <td>13.0</td>\n",
       "      <td>13.0</td>\n",
       "      <td>0</td>\n",
       "      <td>N</td>\n",
       "      <td>0</td>\n",
       "      <td>NaN</td>\n",
       "      <td>NaN</td>\n",
       "      <td>NaN</td>\n",
       "      <td>NaN</td>\n",
       "      <td>NaN</td>\n",
       "    </tr>\n",
       "    <tr>\n",
       "      <th>1936757</th>\n",
       "      <td>7009727</td>\n",
       "      <td>2008</td>\n",
       "      <td>12</td>\n",
       "      <td>13</td>\n",
       "      <td>6</td>\n",
       "      <td>1110.0</td>\n",
       "      <td>1103</td>\n",
       "      <td>1413.0</td>\n",
       "      <td>1418</td>\n",
       "      <td>DL</td>\n",
       "      <td>...</td>\n",
       "      <td>8.0</td>\n",
       "      <td>11.0</td>\n",
       "      <td>0</td>\n",
       "      <td>N</td>\n",
       "      <td>0</td>\n",
       "      <td>NaN</td>\n",
       "      <td>NaN</td>\n",
       "      <td>NaN</td>\n",
       "      <td>NaN</td>\n",
       "      <td>NaN</td>\n",
       "    </tr>\n",
       "  </tbody>\n",
       "</table>\n",
       "<p>1936758 rows × 30 columns</p>\n",
       "</div>"
      ],
      "text/plain": [
       "         Unnamed: 0  Year  Month  DayofMonth  DayOfWeek  DepTime  CRSDepTime  \\\n",
       "0                 0  2008      1           3          4   2003.0        1955   \n",
       "1                 1  2008      1           3          4    754.0         735   \n",
       "2                 2  2008      1           3          4    628.0         620   \n",
       "3                 4  2008      1           3          4   1829.0        1755   \n",
       "4                 5  2008      1           3          4   1940.0        1915   \n",
       "...             ...   ...    ...         ...        ...      ...         ...   \n",
       "1936753     7009710  2008     12          13          6   1250.0        1220   \n",
       "1936754     7009717  2008     12          13          6    657.0         600   \n",
       "1936755     7009718  2008     12          13          6   1007.0         847   \n",
       "1936756     7009726  2008     12          13          6   1251.0        1240   \n",
       "1936757     7009727  2008     12          13          6   1110.0        1103   \n",
       "\n",
       "         ArrTime  CRSArrTime UniqueCarrier  ...  TaxiIn TaxiOut  Cancelled  \\\n",
       "0         2211.0        2225            WN  ...     4.0     8.0          0   \n",
       "1         1002.0        1000            WN  ...     5.0    10.0          0   \n",
       "2          804.0         750            WN  ...     3.0    17.0          0   \n",
       "3         1959.0        1925            WN  ...     3.0    10.0          0   \n",
       "4         2121.0        2110            WN  ...     4.0    10.0          0   \n",
       "...          ...         ...           ...  ...     ...     ...        ...   \n",
       "1936753   1617.0        1552            DL  ...     9.0    18.0          0   \n",
       "1936754    904.0         749            DL  ...    15.0    34.0          0   \n",
       "1936755   1149.0        1010            DL  ...     8.0    32.0          0   \n",
       "1936756   1446.0        1437            DL  ...    13.0    13.0          0   \n",
       "1936757   1413.0        1418            DL  ...     8.0    11.0          0   \n",
       "\n",
       "         CancellationCode  Diverted  CarrierDelay  WeatherDelay NASDelay  \\\n",
       "0                       N         0           NaN           NaN      NaN   \n",
       "1                       N         0           NaN           NaN      NaN   \n",
       "2                       N         0           NaN           NaN      NaN   \n",
       "3                       N         0           2.0           0.0      0.0   \n",
       "4                       N         0           NaN           NaN      NaN   \n",
       "...                   ...       ...           ...           ...      ...   \n",
       "1936753                 N         0           3.0           0.0      0.0   \n",
       "1936754                 N         0           0.0          57.0     18.0   \n",
       "1936755                 N         0           1.0           0.0     19.0   \n",
       "1936756                 N         0           NaN           NaN      NaN   \n",
       "1936757                 N         0           NaN           NaN      NaN   \n",
       "\n",
       "        SecurityDelay  LateAircraftDelay  \n",
       "0                 NaN                NaN  \n",
       "1                 NaN                NaN  \n",
       "2                 NaN                NaN  \n",
       "3                 0.0               32.0  \n",
       "4                 NaN                NaN  \n",
       "...               ...                ...  \n",
       "1936753           0.0               22.0  \n",
       "1936754           0.0                0.0  \n",
       "1936755           0.0               79.0  \n",
       "1936756           NaN                NaN  \n",
       "1936757           NaN                NaN  \n",
       "\n",
       "[1936758 rows x 30 columns]"
      ]
     },
     "execution_count": 2,
     "metadata": {},
     "output_type": "execute_result"
    }
   ],
   "source": [
    "delayed_flights = pd.read_csv('C:\\\\Users\\\\formacio\\\\Gabriel De Santis\\\\Datasets\\\\DelayedFlights.csv', sep=',')\n",
    "\n",
    "delayed_flights"
   ]
  },
  {
   "cell_type": "code",
   "execution_count": 3,
   "id": "f33776ac",
   "metadata": {},
   "outputs": [],
   "source": [
    "delayed_flights.drop(columns='Unnamed: 0', inplace=True)"
   ]
  },
  {
   "cell_type": "markdown",
   "id": "ad1e8cba",
   "metadata": {},
   "source": [
    "Abans que res, eliminarem la variable Year ja que tots els vols del dataset son del 2008 i ens sembla redundant."
   ]
  },
  {
   "cell_type": "code",
   "execution_count": 4,
   "id": "1ca3f24e",
   "metadata": {},
   "outputs": [],
   "source": [
    "delayed_flights.drop(columns='Year', inplace=True)"
   ]
  },
  {
   "cell_type": "markdown",
   "id": "a44fd2e5",
   "metadata": {},
   "source": [
    "A continuació, farem neteja de valors nuls.\n",
    "\n",
    "Observem que els vols cancelats produeixen una gran quantitat de null values a diferents variables. Pensem que lo millor serà eliminar les files, ja que el nombre de vols cancelats és petit.\n"
   ]
  },
  {
   "cell_type": "code",
   "execution_count": 5,
   "id": "e702bc73",
   "metadata": {},
   "outputs": [
    {
     "data": {
      "text/plain": [
       "Month                 0.000000\n",
       "DayofMonth            0.000000\n",
       "DayOfWeek             0.000000\n",
       "DepTime               0.000000\n",
       "CRSDepTime            0.000000\n",
       "ArrTime               0.367108\n",
       "CRSArrTime            0.000000\n",
       "UniqueCarrier         0.000000\n",
       "FlightNum             0.000000\n",
       "TailNum               0.000258\n",
       "ActualElapsedTime     0.433043\n",
       "CRSElapsedTime        0.010223\n",
       "AirTime               0.433043\n",
       "ArrDelay              0.433043\n",
       "DepDelay              0.000000\n",
       "Origin                0.000000\n",
       "Dest                  0.000000\n",
       "Distance              0.000000\n",
       "TaxiIn                0.367108\n",
       "TaxiOut               0.023493\n",
       "Cancelled             0.000000\n",
       "CancellationCode      0.000000\n",
       "Diverted              0.000000\n",
       "CarrierDelay         35.588855\n",
       "WeatherDelay         35.588855\n",
       "NASDelay             35.588855\n",
       "SecurityDelay        35.588855\n",
       "LateAircraftDelay    35.588855\n",
       "dtype: float64"
      ]
     },
     "execution_count": 5,
     "metadata": {},
     "output_type": "execute_result"
    }
   ],
   "source": [
    "delayed_flights.isna().sum() / len(delayed_flights) * 100"
   ]
  },
  {
   "cell_type": "code",
   "execution_count": 6,
   "id": "648a72f0",
   "metadata": {},
   "outputs": [
    {
     "data": {
      "text/plain": [
       "Month                 0.000000\n",
       "DayofMonth            0.000000\n",
       "DayOfWeek             0.000000\n",
       "DepTime               0.000000\n",
       "CRSDepTime            0.000000\n",
       "ArrTime               0.367108\n",
       "CRSArrTime            0.000000\n",
       "UniqueCarrier         0.000000\n",
       "FlightNum             0.000000\n",
       "TailNum               0.000258\n",
       "ActualElapsedTime     0.433043\n",
       "CRSElapsedTime        0.010223\n",
       "AirTime               0.433043\n",
       "ArrDelay              0.433043\n",
       "DepDelay              0.000000\n",
       "Origin                0.000000\n",
       "Dest                  0.000000\n",
       "Distance              0.000000\n",
       "TaxiIn                0.367108\n",
       "TaxiOut               0.023493\n",
       "Cancelled             0.000000\n",
       "CancellationCode      0.000000\n",
       "Diverted              0.000000\n",
       "CarrierDelay         35.588855\n",
       "WeatherDelay         35.588855\n",
       "NASDelay             35.588855\n",
       "SecurityDelay        35.588855\n",
       "LateAircraftDelay    35.588855\n",
       "dtype: float64"
      ]
     },
     "execution_count": 6,
     "metadata": {},
     "output_type": "execute_result"
    }
   ],
   "source": [
    "delayed_flights.isna().sum() / len(delayed_flights) * 100"
   ]
  },
  {
   "cell_type": "code",
   "execution_count": 7,
   "id": "31b02476",
   "metadata": {},
   "outputs": [
    {
     "data": {
      "text/plain": [
       "Month                  0.000000\n",
       "DayofMonth             0.000000\n",
       "DayOfWeek              0.000000\n",
       "DepTime                0.000000\n",
       "CRSDepTime             0.000000\n",
       "ArrTime              100.000000\n",
       "CRSArrTime             0.000000\n",
       "UniqueCarrier          0.000000\n",
       "FlightNum              0.000000\n",
       "TailNum                0.000000\n",
       "ActualElapsedTime    100.000000\n",
       "CRSElapsedTime         0.000000\n",
       "AirTime              100.000000\n",
       "ArrDelay             100.000000\n",
       "DepDelay               0.000000\n",
       "Origin                 0.000000\n",
       "Dest                   0.000000\n",
       "Distance               0.000000\n",
       "TaxiIn               100.000000\n",
       "TaxiOut               71.879937\n",
       "Cancelled              0.000000\n",
       "CancellationCode       0.000000\n",
       "Diverted               0.000000\n",
       "CarrierDelay         100.000000\n",
       "WeatherDelay         100.000000\n",
       "NASDelay             100.000000\n",
       "SecurityDelay        100.000000\n",
       "LateAircraftDelay    100.000000\n",
       "dtype: float64"
      ]
     },
     "execution_count": 7,
     "metadata": {},
     "output_type": "execute_result"
    }
   ],
   "source": [
    "delayed_flights[delayed_flights.Cancelled == 1].isna().sum() / len(delayed_flights[delayed_flights.Cancelled == 1]) * 100"
   ]
  },
  {
   "cell_type": "code",
   "execution_count": 8,
   "id": "24c604ad",
   "metadata": {},
   "outputs": [],
   "source": [
    "indexes = delayed_flights[delayed_flights.Cancelled == 1].index.values\n",
    "delayed_flights.drop(index=indexes, inplace=True)"
   ]
  },
  {
   "cell_type": "markdown",
   "id": "f650f351",
   "metadata": {},
   "source": [
    "Hem eliminat tots els vols cancelats, per tant, la variable Cancelled ja no ens aporta cap informació. Per aquest motiu, l'eliminem."
   ]
  },
  {
   "cell_type": "code",
   "execution_count": 9,
   "id": "c10c8608",
   "metadata": {},
   "outputs": [],
   "source": [
    "delayed_flights.drop(columns='Cancelled', inplace=True)\n",
    "delayed_flights.reset_index(drop=True, inplace=True)"
   ]
  },
  {
   "cell_type": "markdown",
   "id": "7d0a8d1b",
   "metadata": {},
   "source": [
    "Sembla que els null values de les variables CarrierDelay, WeatherDelay, etc. están relacionats amb ArrDelay, és a dir, que quan el retràs no supera els 14 minuts, no es recullen valors. En aquest cas, creiem que serà convenient imputar-los per 0."
   ]
  },
  {
   "cell_type": "code",
   "execution_count": 10,
   "id": "74e05436",
   "metadata": {},
   "outputs": [
    {
     "data": {
      "text/plain": [
       "14.0"
      ]
     },
     "execution_count": 10,
     "metadata": {},
     "output_type": "execute_result"
    }
   ],
   "source": [
    "delayed_flights[delayed_flights.CarrierDelay.isna()].ArrDelay.max()"
   ]
  },
  {
   "cell_type": "code",
   "execution_count": 11,
   "id": "810dea7d",
   "metadata": {},
   "outputs": [],
   "source": [
    "indices = delayed_flights[delayed_flights.ArrDelay < 15][['CarrierDelay',\n",
    "       'WeatherDelay', 'NASDelay', 'SecurityDelay', 'LateAircraftDelay']].index.values\n",
    "\n",
    "delayed_flights.iloc[indices, -5:] = delayed_flights.iloc[indices, -5:].fillna(0)"
   ]
  },
  {
   "cell_type": "markdown",
   "id": "f43de12b",
   "metadata": {},
   "source": [
    "Sembla que els vols desviats també afecten als valors nuls d'altres variables. Així que els eliminarem de la mateixa forma que els cancelats."
   ]
  },
  {
   "cell_type": "code",
   "execution_count": 12,
   "id": "d3cbb5b3",
   "metadata": {},
   "outputs": [
    {
     "data": {
      "text/plain": [
       "Month                  0.000000\n",
       "DayofMonth             0.000000\n",
       "DayOfWeek              0.000000\n",
       "DepTime                0.000000\n",
       "CRSDepTime             0.000000\n",
       "ArrTime               83.531081\n",
       "CRSArrTime             0.000000\n",
       "UniqueCarrier          0.000000\n",
       "FlightNum              0.000000\n",
       "TailNum                0.025793\n",
       "ActualElapsedTime    100.000000\n",
       "CRSElapsedTime         2.553521\n",
       "AirTime              100.000000\n",
       "ArrDelay             100.000000\n",
       "DepDelay               0.000000\n",
       "Origin                 0.000000\n",
       "Dest                   0.000000\n",
       "Distance               0.000000\n",
       "TaxiIn                83.531081\n",
       "TaxiOut                0.000000\n",
       "CancellationCode       0.000000\n",
       "Diverted               0.000000\n",
       "CarrierDelay         100.000000\n",
       "WeatherDelay         100.000000\n",
       "NASDelay             100.000000\n",
       "SecurityDelay        100.000000\n",
       "LateAircraftDelay    100.000000\n",
       "dtype: float64"
      ]
     },
     "execution_count": 12,
     "metadata": {},
     "output_type": "execute_result"
    }
   ],
   "source": [
    "delayed_flights[delayed_flights.Diverted == 1].isna().sum() / len(delayed_flights[delayed_flights.Diverted == 1]) * 100"
   ]
  },
  {
   "cell_type": "code",
   "execution_count": 13,
   "id": "61478398",
   "metadata": {},
   "outputs": [
    {
     "data": {
      "text/plain": [
       "Month                0.000000\n",
       "DayofMonth           0.000000\n",
       "DayOfWeek            0.000000\n",
       "DepTime              0.000000\n",
       "CRSDepTime           0.000000\n",
       "ArrTime              0.000000\n",
       "CRSArrTime           0.000000\n",
       "UniqueCarrier        0.000000\n",
       "FlightNum            0.000000\n",
       "TailNum              0.000156\n",
       "ActualElapsedTime    0.000000\n",
       "CRSElapsedTime       0.000000\n",
       "AirTime              0.000000\n",
       "ArrDelay             0.000000\n",
       "DepDelay             0.000000\n",
       "Origin               0.000000\n",
       "Dest                 0.000000\n",
       "Distance             0.000000\n",
       "TaxiIn               0.000000\n",
       "TaxiOut              0.000000\n",
       "CancellationCode     0.000000\n",
       "CarrierDelay         0.000000\n",
       "WeatherDelay         0.000000\n",
       "NASDelay             0.000000\n",
       "SecurityDelay        0.000000\n",
       "LateAircraftDelay    0.000000\n",
       "dtype: float64"
      ]
     },
     "execution_count": 13,
     "metadata": {},
     "output_type": "execute_result"
    }
   ],
   "source": [
    "indices = delayed_flights[delayed_flights.Diverted == 1].index.values\n",
    "delayed_flights.drop(index=indices, inplace=True)\n",
    "delayed_flights.drop(columns='Diverted', inplace=True)\n",
    "delayed_flights.reset_index(drop=True, inplace=True)\n",
    "delayed_flights.isna().sum() / len(delayed_flights) * 100"
   ]
  },
  {
   "cell_type": "markdown",
   "id": "a7b5225c",
   "metadata": {},
   "source": [
    "Per acabar, hem decidit imputar els valors nuls de TailNum per la moda."
   ]
  },
  {
   "cell_type": "code",
   "execution_count": 14,
   "id": "0d427b11",
   "metadata": {},
   "outputs": [
    {
     "data": {
      "text/plain": [
       "Month                0\n",
       "DayofMonth           0\n",
       "DayOfWeek            0\n",
       "DepTime              0\n",
       "CRSDepTime           0\n",
       "ArrTime              0\n",
       "CRSArrTime           0\n",
       "UniqueCarrier        0\n",
       "FlightNum            0\n",
       "TailNum              0\n",
       "ActualElapsedTime    0\n",
       "CRSElapsedTime       0\n",
       "AirTime              0\n",
       "ArrDelay             0\n",
       "DepDelay             0\n",
       "Origin               0\n",
       "Dest                 0\n",
       "Distance             0\n",
       "TaxiIn               0\n",
       "TaxiOut              0\n",
       "CancellationCode     0\n",
       "CarrierDelay         0\n",
       "WeatherDelay         0\n",
       "NASDelay             0\n",
       "SecurityDelay        0\n",
       "LateAircraftDelay    0\n",
       "dtype: int64"
      ]
     },
     "execution_count": 14,
     "metadata": {},
     "output_type": "execute_result"
    }
   ],
   "source": [
    "delayed_flights.TailNum.fillna(delayed_flights.TailNum.mode()[0], inplace=True)\n",
    "delayed_flights.isna().sum()"
   ]
  },
  {
   "cell_type": "markdown",
   "id": "91e410e4",
   "metadata": {},
   "source": [
    "Convertirem ArrDelay en una variable dummy."
   ]
  },
  {
   "cell_type": "code",
   "execution_count": 15,
   "id": "441a2fa6",
   "metadata": {
    "scrolled": false
   },
   "outputs": [
    {
     "data": {
      "text/plain": [
       "0          0\n",
       "1          1\n",
       "2          1\n",
       "3          1\n",
       "4          1\n",
       "          ..\n",
       "1928366    1\n",
       "1928367    1\n",
       "1928368    1\n",
       "1928369    1\n",
       "1928370    0\n",
       "Name: ArrDelay, Length: 1928371, dtype: int64"
      ]
     },
     "execution_count": 15,
     "metadata": {},
     "output_type": "execute_result"
    }
   ],
   "source": [
    "delayed_flights.ArrDelay = delayed_flights.ArrDelay.apply(lambda x: 1 if (x > 0) else 0)\n",
    "delayed_flights.ArrDelay"
   ]
  },
  {
   "cell_type": "markdown",
   "id": "adb37b07",
   "metadata": {},
   "source": [
    "Separar les variables per tipus"
   ]
  },
  {
   "cell_type": "code",
   "execution_count": 16,
   "id": "f8ee7173",
   "metadata": {},
   "outputs": [],
   "source": [
    "cyclical = ['Month', 'DayofMonth', 'DayOfWeek', 'DepTime', 'CRSDepTime', 'ArrTime', 'CRSArrTime']\n",
    "nominal = ['UniqueCarrier', 'FlightNum', 'TailNum', 'Origin', 'Dest', 'CancellationCode']\n",
    "numerical = ['ActualElapsedTime', 'CRSElapsedTime', 'AirTime', \n",
    "            'DepDelay', 'Distance', 'TaxiIn', 'TaxiOut', 'CarrierDelay',\n",
    "           'WeatherDelay', 'NASDelay', 'SecurityDelay', 'LateAircraftDelay']\n",
    "binomial = ['ArrDelay']"
   ]
  },
  {
   "cell_type": "code",
   "execution_count": 17,
   "id": "7dc051b4",
   "metadata": {},
   "outputs": [
    {
     "data": {
      "text/plain": [
       "ActualElapsedTime     1.427101\n",
       "CRSElapsedTime        1.439446\n",
       "AirTime               1.495251\n",
       "DepDelay              4.500579\n",
       "Distance              1.546581\n",
       "TaxiIn                5.989240\n",
       "TaxiOut               4.497800\n",
       "CarrierDelay          8.863144\n",
       "WeatherDelay         15.595925\n",
       "NASDelay              6.151299\n",
       "SecurityDelay        64.912970\n",
       "LateAircraftDelay     4.045036\n",
       "dtype: float64"
      ]
     },
     "execution_count": 17,
     "metadata": {},
     "output_type": "execute_result"
    }
   ],
   "source": [
    "delayed_flights[numerical].skew()"
   ]
  },
  {
   "cell_type": "code",
   "execution_count": 18,
   "id": "d8610532",
   "metadata": {},
   "outputs": [
    {
     "data": {
      "text/plain": [
       "ActualElapsedTime     0.133347\n",
       "CRSElapsedTime        0.193822\n",
       "AirTime               0.002158\n",
       "DepDelay              0.382507\n",
       "Distance             -0.213776\n",
       "TaxiIn                0.452935\n",
       "TaxiOut               0.671148\n",
       "CarrierDelay          1.190391\n",
       "WeatherDelay          4.788023\n",
       "NASDelay              1.364237\n",
       "SecurityDelay        20.740511\n",
       "LateAircraftDelay     0.916293\n",
       "dtype: float64"
      ]
     },
     "execution_count": 18,
     "metadata": {},
     "output_type": "execute_result"
    }
   ],
   "source": [
    "delayed_flights[numerical] = pd.DataFrame(data=np.ma.log(delayed_flights[numerical].values).filled(0), columns=numerical)\n",
    "delayed_flights[numerical].skew()"
   ]
  },
  {
   "cell_type": "markdown",
   "id": "a4575a0a",
   "metadata": {},
   "source": [
    "Aplicarem cyclical transforming per a les variables cícliques (temporals), frequency encoding per a les nominals i estandarditzarem les variables numèriques. Les variables cancelled i diverted son binomials, però no requereixen cap tipus de transformació."
   ]
  },
  {
   "cell_type": "code",
   "execution_count": 19,
   "id": "3c6e9885",
   "metadata": {},
   "outputs": [
    {
     "name": "stdout",
     "output_type": "stream",
     "text": [
      "[ 1  2  3  4  5  6  7  8  9 10 11 12]\n",
      "================================================================\n",
      "[ 1  2  3  4  5  6  7  8  9 10 11 12 13 14 15 16 17 18 19 20 21 22 23 24\n",
      " 25 26 27 28 29 30 31]\n",
      "================================================================\n",
      "[1 2 3 4 5 6 7]\n",
      "================================================================\n",
      "1.0 2400.0\n",
      "================================================================\n",
      "0 2359\n",
      "================================================================\n",
      "1.0 2400.0\n",
      "================================================================\n",
      "0 2359\n",
      "================================================================\n"
     ]
    }
   ],
   "source": [
    "for column in cyclical[:3]:\n",
    "    print(np.sort(delayed_flights[column].unique()))\n",
    "    print('='*64)\n",
    "\n",
    "for column in cyclical[3:]:\n",
    "    print(delayed_flights[column].min(), delayed_flights[column].max())\n",
    "    print('='*64)"
   ]
  },
  {
   "cell_type": "code",
   "execution_count": 20,
   "id": "6a9c7f97",
   "metadata": {},
   "outputs": [],
   "source": [
    "delayed_flights['mnth_sin'] = np.sin((delayed_flights.Month -1)*(2.*np.pi/12))\n",
    "delayed_flights['mnth_cos'] = np.cos((delayed_flights.Month -1)*(2.*np.pi/12))\n",
    "delayed_flights['day_M_sin'] = np.sin((delayed_flights.DayofMonth -1)*(2.*np.pi/31))\n",
    "delayed_flights['day_M_cos'] = np.cos((delayed_flights.DayofMonth -1)*(2.*np.pi/31))\n",
    "delayed_flights['day_W_sin'] = np.sin((delayed_flights.DayOfWeek -1)*(2.*np.pi/7))\n",
    "delayed_flights['day_W_cos'] = np.cos((delayed_flights.DayOfWeek -1)*(2.*np.pi/7))"
   ]
  },
  {
   "cell_type": "code",
   "execution_count": 21,
   "id": "47454c2e",
   "metadata": {},
   "outputs": [
    {
     "data": {
      "text/html": [
       "<div>\n",
       "<style scoped>\n",
       "    .dataframe tbody tr th:only-of-type {\n",
       "        vertical-align: middle;\n",
       "    }\n",
       "\n",
       "    .dataframe tbody tr th {\n",
       "        vertical-align: top;\n",
       "    }\n",
       "\n",
       "    .dataframe thead th {\n",
       "        text-align: right;\n",
       "    }\n",
       "</style>\n",
       "<table border=\"1\" class=\"dataframe\">\n",
       "  <thead>\n",
       "    <tr style=\"text-align: right;\">\n",
       "      <th></th>\n",
       "      <th>Month</th>\n",
       "      <th>mnth_sin</th>\n",
       "      <th>mnth_cos</th>\n",
       "      <th>DayofMonth</th>\n",
       "      <th>day_M_sin</th>\n",
       "      <th>day_M_cos</th>\n",
       "      <th>DayOfWeek</th>\n",
       "      <th>day_W_sin</th>\n",
       "      <th>day_W_cos</th>\n",
       "    </tr>\n",
       "  </thead>\n",
       "  <tbody>\n",
       "    <tr>\n",
       "      <th>0</th>\n",
       "      <td>1</td>\n",
       "      <td>0.000</td>\n",
       "      <td>1.000</td>\n",
       "      <td>3</td>\n",
       "      <td>0.394</td>\n",
       "      <td>0.919</td>\n",
       "      <td>4</td>\n",
       "      <td>0.434</td>\n",
       "      <td>-0.901</td>\n",
       "    </tr>\n",
       "    <tr>\n",
       "      <th>200000</th>\n",
       "      <td>2</td>\n",
       "      <td>0.500</td>\n",
       "      <td>0.866</td>\n",
       "      <td>15</td>\n",
       "      <td>0.299</td>\n",
       "      <td>-0.954</td>\n",
       "      <td>5</td>\n",
       "      <td>-0.434</td>\n",
       "      <td>-0.901</td>\n",
       "    </tr>\n",
       "    <tr>\n",
       "      <th>400000</th>\n",
       "      <td>3</td>\n",
       "      <td>0.866</td>\n",
       "      <td>0.500</td>\n",
       "      <td>24</td>\n",
       "      <td>-0.999</td>\n",
       "      <td>-0.051</td>\n",
       "      <td>1</td>\n",
       "      <td>0.000</td>\n",
       "      <td>1.000</td>\n",
       "    </tr>\n",
       "    <tr>\n",
       "      <th>600000</th>\n",
       "      <td>4</td>\n",
       "      <td>1.000</td>\n",
       "      <td>0.000</td>\n",
       "      <td>14</td>\n",
       "      <td>0.485</td>\n",
       "      <td>-0.874</td>\n",
       "      <td>1</td>\n",
       "      <td>0.000</td>\n",
       "      <td>1.000</td>\n",
       "    </tr>\n",
       "    <tr>\n",
       "      <th>800000</th>\n",
       "      <td>5</td>\n",
       "      <td>0.866</td>\n",
       "      <td>-0.500</td>\n",
       "      <td>20</td>\n",
       "      <td>-0.651</td>\n",
       "      <td>-0.759</td>\n",
       "      <td>2</td>\n",
       "      <td>0.782</td>\n",
       "      <td>0.623</td>\n",
       "    </tr>\n",
       "    <tr>\n",
       "      <th>1000000</th>\n",
       "      <td>6</td>\n",
       "      <td>0.500</td>\n",
       "      <td>-0.866</td>\n",
       "      <td>22</td>\n",
       "      <td>-0.898</td>\n",
       "      <td>-0.440</td>\n",
       "      <td>7</td>\n",
       "      <td>-0.782</td>\n",
       "      <td>0.623</td>\n",
       "    </tr>\n",
       "    <tr>\n",
       "      <th>1200000</th>\n",
       "      <td>7</td>\n",
       "      <td>0.000</td>\n",
       "      <td>-1.000</td>\n",
       "      <td>1</td>\n",
       "      <td>0.000</td>\n",
       "      <td>1.000</td>\n",
       "      <td>2</td>\n",
       "      <td>0.782</td>\n",
       "      <td>0.623</td>\n",
       "    </tr>\n",
       "    <tr>\n",
       "      <th>1400000</th>\n",
       "      <td>8</td>\n",
       "      <td>-0.500</td>\n",
       "      <td>-0.866</td>\n",
       "      <td>20</td>\n",
       "      <td>-0.651</td>\n",
       "      <td>-0.759</td>\n",
       "      <td>3</td>\n",
       "      <td>0.975</td>\n",
       "      <td>-0.223</td>\n",
       "    </tr>\n",
       "    <tr>\n",
       "      <th>1600000</th>\n",
       "      <td>10</td>\n",
       "      <td>-1.000</td>\n",
       "      <td>-0.000</td>\n",
       "      <td>14</td>\n",
       "      <td>0.485</td>\n",
       "      <td>-0.874</td>\n",
       "      <td>2</td>\n",
       "      <td>0.782</td>\n",
       "      <td>0.623</td>\n",
       "    </tr>\n",
       "    <tr>\n",
       "      <th>1800000</th>\n",
       "      <td>12</td>\n",
       "      <td>-0.500</td>\n",
       "      <td>0.866</td>\n",
       "      <td>22</td>\n",
       "      <td>-0.898</td>\n",
       "      <td>-0.440</td>\n",
       "      <td>1</td>\n",
       "      <td>0.000</td>\n",
       "      <td>1.000</td>\n",
       "    </tr>\n",
       "  </tbody>\n",
       "</table>\n",
       "</div>"
      ],
      "text/plain": [
       "         Month  mnth_sin  mnth_cos  DayofMonth  day_M_sin  day_M_cos  \\\n",
       "0            1     0.000     1.000           3      0.394      0.919   \n",
       "200000       2     0.500     0.866          15      0.299     -0.954   \n",
       "400000       3     0.866     0.500          24     -0.999     -0.051   \n",
       "600000       4     1.000     0.000          14      0.485     -0.874   \n",
       "800000       5     0.866    -0.500          20     -0.651     -0.759   \n",
       "1000000      6     0.500    -0.866          22     -0.898     -0.440   \n",
       "1200000      7     0.000    -1.000           1      0.000      1.000   \n",
       "1400000      8    -0.500    -0.866          20     -0.651     -0.759   \n",
       "1600000     10    -1.000    -0.000          14      0.485     -0.874   \n",
       "1800000     12    -0.500     0.866          22     -0.898     -0.440   \n",
       "\n",
       "         DayOfWeek  day_W_sin  day_W_cos  \n",
       "0                4      0.434     -0.901  \n",
       "200000           5     -0.434     -0.901  \n",
       "400000           1      0.000      1.000  \n",
       "600000           1      0.000      1.000  \n",
       "800000           2      0.782      0.623  \n",
       "1000000          7     -0.782      0.623  \n",
       "1200000          2      0.782      0.623  \n",
       "1400000          3      0.975     -0.223  \n",
       "1600000          2      0.782      0.623  \n",
       "1800000          1      0.000      1.000  "
      ]
     },
     "execution_count": 21,
     "metadata": {},
     "output_type": "execute_result"
    }
   ],
   "source": [
    "round(delayed_flights[['Month','mnth_sin', 'mnth_cos', 'DayofMonth', 'day_M_sin', 'day_M_cos', 'DayOfWeek', 'day_W_sin', 'day_W_cos']][::200000], 3)"
   ]
  },
  {
   "cell_type": "code",
   "execution_count": 22,
   "id": "056e7e9e",
   "metadata": {},
   "outputs": [],
   "source": [
    "delayed_flights['DepTime_sin'] = np.sin((delayed_flights.DepTime)*(2.*np.pi/2400))\n",
    "delayed_flights['DepTime_cos'] = np.cos((delayed_flights.DepTime)*(2.*np.pi/2400))\n",
    "delayed_flights['CRSDepTime_sin'] = np.sin((delayed_flights.CRSDepTime)*(2.*np.pi/2359))\n",
    "delayed_flights['CRSDepTime_cos'] = np.cos((delayed_flights.CRSDepTime)*(2.*np.pi/2359))\n",
    "delayed_flights['ArrTime_sin'] = np.sin((delayed_flights.ArrTime)*(2.*np.pi/2400))\n",
    "delayed_flights['ArrTime_cos'] = np.cos((delayed_flights.ArrTime)*(2.*np.pi/2400))\n",
    "delayed_flights['CRSArrTime_sin'] = np.sin((delayed_flights.CRSArrTime)*(2.*np.pi/2400))\n",
    "delayed_flights['CRSArrTime_cos'] = np.cos((delayed_flights.CRSArrTime)*(2.*np.pi/2400))"
   ]
  },
  {
   "cell_type": "code",
   "execution_count": 23,
   "id": "4e8e42f7",
   "metadata": {},
   "outputs": [
    {
     "data": {
      "text/html": [
       "<div>\n",
       "<style scoped>\n",
       "    .dataframe tbody tr th:only-of-type {\n",
       "        vertical-align: middle;\n",
       "    }\n",
       "\n",
       "    .dataframe tbody tr th {\n",
       "        vertical-align: top;\n",
       "    }\n",
       "\n",
       "    .dataframe thead th {\n",
       "        text-align: right;\n",
       "    }\n",
       "</style>\n",
       "<table border=\"1\" class=\"dataframe\">\n",
       "  <thead>\n",
       "    <tr style=\"text-align: right;\">\n",
       "      <th></th>\n",
       "      <th>CRSDepTime</th>\n",
       "      <th>CRSDepTime_sin</th>\n",
       "      <th>CRSDepTime_cos</th>\n",
       "    </tr>\n",
       "  </thead>\n",
       "  <tbody>\n",
       "    <tr>\n",
       "      <th>250004</th>\n",
       "      <td>0</td>\n",
       "      <td>0.0</td>\n",
       "      <td>1.0</td>\n",
       "    </tr>\n",
       "    <tr>\n",
       "      <th>945888</th>\n",
       "      <td>0</td>\n",
       "      <td>0.0</td>\n",
       "      <td>1.0</td>\n",
       "    </tr>\n",
       "  </tbody>\n",
       "</table>\n",
       "</div>"
      ],
      "text/plain": [
       "        CRSDepTime  CRSDepTime_sin  CRSDepTime_cos\n",
       "250004           0             0.0             1.0\n",
       "945888           0             0.0             1.0"
      ]
     },
     "execution_count": 23,
     "metadata": {},
     "output_type": "execute_result"
    }
   ],
   "source": [
    "delayed_flights[delayed_flights.CRSDepTime == 0][['CRSDepTime', 'CRSDepTime_sin', 'CRSDepTime_cos']]"
   ]
  },
  {
   "cell_type": "code",
   "execution_count": 24,
   "id": "b700552b",
   "metadata": {},
   "outputs": [
    {
     "data": {
      "text/html": [
       "<div>\n",
       "<style scoped>\n",
       "    .dataframe tbody tr th:only-of-type {\n",
       "        vertical-align: middle;\n",
       "    }\n",
       "\n",
       "    .dataframe tbody tr th {\n",
       "        vertical-align: top;\n",
       "    }\n",
       "\n",
       "    .dataframe thead th {\n",
       "        text-align: right;\n",
       "    }\n",
       "</style>\n",
       "<table border=\"1\" class=\"dataframe\">\n",
       "  <thead>\n",
       "    <tr style=\"text-align: right;\">\n",
       "      <th></th>\n",
       "      <th>CRSDepTime</th>\n",
       "      <th>CRSDepTime_sin</th>\n",
       "      <th>CRSDepTime_cos</th>\n",
       "    </tr>\n",
       "  </thead>\n",
       "  <tbody>\n",
       "    <tr>\n",
       "      <th>81472</th>\n",
       "      <td>2358</td>\n",
       "      <td>-0.00266</td>\n",
       "      <td>1.0</td>\n",
       "    </tr>\n",
       "    <tr>\n",
       "      <th>82440</th>\n",
       "      <td>2358</td>\n",
       "      <td>-0.00266</td>\n",
       "      <td>1.0</td>\n",
       "    </tr>\n",
       "    <tr>\n",
       "      <th>82838</th>\n",
       "      <td>2358</td>\n",
       "      <td>-0.00266</td>\n",
       "      <td>1.0</td>\n",
       "    </tr>\n",
       "    <tr>\n",
       "      <th>89259</th>\n",
       "      <td>2358</td>\n",
       "      <td>-0.00266</td>\n",
       "      <td>1.0</td>\n",
       "    </tr>\n",
       "    <tr>\n",
       "      <th>89748</th>\n",
       "      <td>2358</td>\n",
       "      <td>-0.00266</td>\n",
       "      <td>1.0</td>\n",
       "    </tr>\n",
       "    <tr>\n",
       "      <th>...</th>\n",
       "      <td>...</td>\n",
       "      <td>...</td>\n",
       "      <td>...</td>\n",
       "    </tr>\n",
       "    <tr>\n",
       "      <th>1609959</th>\n",
       "      <td>2358</td>\n",
       "      <td>-0.00266</td>\n",
       "      <td>1.0</td>\n",
       "    </tr>\n",
       "    <tr>\n",
       "      <th>1610100</th>\n",
       "      <td>2358</td>\n",
       "      <td>-0.00266</td>\n",
       "      <td>1.0</td>\n",
       "    </tr>\n",
       "    <tr>\n",
       "      <th>1610180</th>\n",
       "      <td>2358</td>\n",
       "      <td>-0.00266</td>\n",
       "      <td>1.0</td>\n",
       "    </tr>\n",
       "    <tr>\n",
       "      <th>1611059</th>\n",
       "      <td>2358</td>\n",
       "      <td>-0.00266</td>\n",
       "      <td>1.0</td>\n",
       "    </tr>\n",
       "    <tr>\n",
       "      <th>1712917</th>\n",
       "      <td>2358</td>\n",
       "      <td>-0.00266</td>\n",
       "      <td>1.0</td>\n",
       "    </tr>\n",
       "  </tbody>\n",
       "</table>\n",
       "<p>147 rows × 3 columns</p>\n",
       "</div>"
      ],
      "text/plain": [
       "         CRSDepTime  CRSDepTime_sin  CRSDepTime_cos\n",
       "81472          2358        -0.00266             1.0\n",
       "82440          2358        -0.00266             1.0\n",
       "82838          2358        -0.00266             1.0\n",
       "89259          2358        -0.00266             1.0\n",
       "89748          2358        -0.00266             1.0\n",
       "...             ...             ...             ...\n",
       "1609959        2358        -0.00266             1.0\n",
       "1610100        2358        -0.00266             1.0\n",
       "1610180        2358        -0.00266             1.0\n",
       "1611059        2358        -0.00266             1.0\n",
       "1712917        2358        -0.00266             1.0\n",
       "\n",
       "[147 rows x 3 columns]"
      ]
     },
     "execution_count": 24,
     "metadata": {},
     "output_type": "execute_result"
    }
   ],
   "source": [
    "round(delayed_flights[delayed_flights.CRSDepTime == 2358][['CRSDepTime', 'CRSDepTime_sin', 'CRSDepTime_cos']], 5)"
   ]
  },
  {
   "cell_type": "markdown",
   "id": "806c93bb",
   "metadata": {},
   "source": [
    "Com podem observar, hem aconseguit que els valors siguin cíclics, de forma que la última hora/dia estigui a prop de la primera, que és com passa en el temps cíclic."
   ]
  },
  {
   "cell_type": "code",
   "execution_count": 25,
   "id": "99d47eb2",
   "metadata": {},
   "outputs": [
    {
     "data": {
      "text/html": [
       "<div>\n",
       "<style scoped>\n",
       "    .dataframe tbody tr th:only-of-type {\n",
       "        vertical-align: middle;\n",
       "    }\n",
       "\n",
       "    .dataframe tbody tr th {\n",
       "        vertical-align: top;\n",
       "    }\n",
       "\n",
       "    .dataframe thead th {\n",
       "        text-align: right;\n",
       "    }\n",
       "</style>\n",
       "<table border=\"1\" class=\"dataframe\">\n",
       "  <thead>\n",
       "    <tr style=\"text-align: right;\">\n",
       "      <th></th>\n",
       "      <th>mnth_sin</th>\n",
       "      <th>mnth_cos</th>\n",
       "      <th>day_M_sin</th>\n",
       "      <th>day_M_cos</th>\n",
       "      <th>day_W_sin</th>\n",
       "      <th>day_W_cos</th>\n",
       "      <th>DepTime_sin</th>\n",
       "      <th>DepTime_cos</th>\n",
       "      <th>ArrTime_sin</th>\n",
       "      <th>ArrTime_cos</th>\n",
       "      <th>CRSDepTime_sin</th>\n",
       "      <th>CRSDepTime_cos</th>\n",
       "      <th>CRSArrTime_sin</th>\n",
       "      <th>CRSArrTime_cos</th>\n",
       "    </tr>\n",
       "  </thead>\n",
       "  <tbody>\n",
       "    <tr>\n",
       "      <th>0</th>\n",
       "      <td>0.0</td>\n",
       "      <td>1.000000</td>\n",
       "      <td>0.394356</td>\n",
       "      <td>0.918958</td>\n",
       "      <td>0.433884</td>\n",
       "      <td>-0.900969</td>\n",
       "      <td>-0.862072</td>\n",
       "      <td>0.506786</td>\n",
       "      <td>-0.474856</td>\n",
       "      <td>0.880063</td>\n",
       "      <td>-0.880090</td>\n",
       "      <td>0.474807</td>\n",
       "      <td>-0.442289</td>\n",
       "      <td>0.896873</td>\n",
       "    </tr>\n",
       "    <tr>\n",
       "      <th>1</th>\n",
       "      <td>0.0</td>\n",
       "      <td>1.000000</td>\n",
       "      <td>0.394356</td>\n",
       "      <td>0.918958</td>\n",
       "      <td>0.433884</td>\n",
       "      <td>-0.900969</td>\n",
       "      <td>0.919821</td>\n",
       "      <td>-0.392337</td>\n",
       "      <td>0.495459</td>\n",
       "      <td>-0.868632</td>\n",
       "      <td>0.926094</td>\n",
       "      <td>-0.377294</td>\n",
       "      <td>0.500000</td>\n",
       "      <td>-0.866025</td>\n",
       "    </tr>\n",
       "    <tr>\n",
       "      <th>2</th>\n",
       "      <td>0.0</td>\n",
       "      <td>1.000000</td>\n",
       "      <td>0.394356</td>\n",
       "      <td>0.918958</td>\n",
       "      <td>0.433884</td>\n",
       "      <td>-0.900969</td>\n",
       "      <td>0.997314</td>\n",
       "      <td>-0.073238</td>\n",
       "      <td>0.860742</td>\n",
       "      <td>-0.509041</td>\n",
       "      <td>0.996756</td>\n",
       "      <td>-0.080484</td>\n",
       "      <td>0.923880</td>\n",
       "      <td>-0.382683</td>\n",
       "    </tr>\n",
       "    <tr>\n",
       "      <th>3</th>\n",
       "      <td>0.0</td>\n",
       "      <td>1.000000</td>\n",
       "      <td>0.394356</td>\n",
       "      <td>0.918958</td>\n",
       "      <td>0.433884</td>\n",
       "      <td>-0.900969</td>\n",
       "      <td>-0.997119</td>\n",
       "      <td>0.075849</td>\n",
       "      <td>-0.914607</td>\n",
       "      <td>0.404344</td>\n",
       "      <td>-0.999280</td>\n",
       "      <td>-0.037946</td>\n",
       "      <td>-0.946930</td>\n",
       "      <td>0.321439</td>\n",
       "    </tr>\n",
       "    <tr>\n",
       "      <th>4</th>\n",
       "      <td>0.0</td>\n",
       "      <td>1.000000</td>\n",
       "      <td>0.394356</td>\n",
       "      <td>0.918958</td>\n",
       "      <td>0.433884</td>\n",
       "      <td>-0.900969</td>\n",
       "      <td>-0.933580</td>\n",
       "      <td>0.358368</td>\n",
       "      <td>-0.667183</td>\n",
       "      <td>0.744894</td>\n",
       "      <td>-0.925590</td>\n",
       "      <td>0.378527</td>\n",
       "      <td>-0.688355</td>\n",
       "      <td>0.725374</td>\n",
       "    </tr>\n",
       "    <tr>\n",
       "      <th>...</th>\n",
       "      <td>...</td>\n",
       "      <td>...</td>\n",
       "      <td>...</td>\n",
       "      <td>...</td>\n",
       "      <td>...</td>\n",
       "      <td>...</td>\n",
       "      <td>...</td>\n",
       "      <td>...</td>\n",
       "      <td>...</td>\n",
       "      <td>...</td>\n",
       "      <td>...</td>\n",
       "      <td>...</td>\n",
       "      <td>...</td>\n",
       "      <td>...</td>\n",
       "    </tr>\n",
       "    <tr>\n",
       "      <th>1928366</th>\n",
       "      <td>-0.5</td>\n",
       "      <td>0.866025</td>\n",
       "      <td>0.651372</td>\n",
       "      <td>-0.758758</td>\n",
       "      <td>-0.974928</td>\n",
       "      <td>-0.222521</td>\n",
       "      <td>-0.130526</td>\n",
       "      <td>-0.991445</td>\n",
       "      <td>-0.887413</td>\n",
       "      <td>-0.460974</td>\n",
       "      <td>-0.107662</td>\n",
       "      <td>-0.994188</td>\n",
       "      <td>-0.796530</td>\n",
       "      <td>-0.604599</td>\n",
       "    </tr>\n",
       "    <tr>\n",
       "      <th>1928367</th>\n",
       "      <td>-0.5</td>\n",
       "      <td>0.866025</td>\n",
       "      <td>0.651372</td>\n",
       "      <td>-0.758758</td>\n",
       "      <td>-0.974928</td>\n",
       "      <td>-0.222521</td>\n",
       "      <td>0.988886</td>\n",
       "      <td>-0.148672</td>\n",
       "      <td>0.699663</td>\n",
       "      <td>-0.714473</td>\n",
       "      <td>0.999627</td>\n",
       "      <td>-0.027297</td>\n",
       "      <td>0.924878</td>\n",
       "      <td>-0.380263</td>\n",
       "    </tr>\n",
       "    <tr>\n",
       "      <th>1928368</th>\n",
       "      <td>-0.5</td>\n",
       "      <td>0.866025</td>\n",
       "      <td>0.651372</td>\n",
       "      <td>-0.758758</td>\n",
       "      <td>-0.974928</td>\n",
       "      <td>-0.222521</td>\n",
       "      <td>0.484046</td>\n",
       "      <td>-0.875042</td>\n",
       "      <td>0.133121</td>\n",
       "      <td>-0.991100</td>\n",
       "      <td>0.774303</td>\n",
       "      <td>-0.632816</td>\n",
       "      <td>0.477159</td>\n",
       "      <td>-0.878817</td>\n",
       "    </tr>\n",
       "    <tr>\n",
       "      <th>1928369</th>\n",
       "      <td>-0.5</td>\n",
       "      <td>0.866025</td>\n",
       "      <td>0.651372</td>\n",
       "      <td>-0.758758</td>\n",
       "      <td>-0.974928</td>\n",
       "      <td>-0.222521</td>\n",
       "      <td>-0.133121</td>\n",
       "      <td>-0.991100</td>\n",
       "      <td>-0.600420</td>\n",
       "      <td>-0.799685</td>\n",
       "      <td>-0.160445</td>\n",
       "      <td>-0.987045</td>\n",
       "      <td>-0.581413</td>\n",
       "      <td>-0.813608</td>\n",
       "    </tr>\n",
       "    <tr>\n",
       "      <th>1928370</th>\n",
       "      <td>-0.5</td>\n",
       "      <td>0.866025</td>\n",
       "      <td>0.651372</td>\n",
       "      <td>-0.758758</td>\n",
       "      <td>-0.974928</td>\n",
       "      <td>-0.222521</td>\n",
       "      <td>0.233445</td>\n",
       "      <td>-0.972370</td>\n",
       "      <td>-0.529179</td>\n",
       "      <td>-0.848510</td>\n",
       "      <td>0.202350</td>\n",
       "      <td>-0.979313</td>\n",
       "      <td>-0.540240</td>\n",
       "      <td>-0.841511</td>\n",
       "    </tr>\n",
       "  </tbody>\n",
       "</table>\n",
       "<p>1928371 rows × 14 columns</p>\n",
       "</div>"
      ],
      "text/plain": [
       "         mnth_sin  mnth_cos  day_M_sin  day_M_cos  day_W_sin  day_W_cos  \\\n",
       "0             0.0  1.000000   0.394356   0.918958   0.433884  -0.900969   \n",
       "1             0.0  1.000000   0.394356   0.918958   0.433884  -0.900969   \n",
       "2             0.0  1.000000   0.394356   0.918958   0.433884  -0.900969   \n",
       "3             0.0  1.000000   0.394356   0.918958   0.433884  -0.900969   \n",
       "4             0.0  1.000000   0.394356   0.918958   0.433884  -0.900969   \n",
       "...           ...       ...        ...        ...        ...        ...   \n",
       "1928366      -0.5  0.866025   0.651372  -0.758758  -0.974928  -0.222521   \n",
       "1928367      -0.5  0.866025   0.651372  -0.758758  -0.974928  -0.222521   \n",
       "1928368      -0.5  0.866025   0.651372  -0.758758  -0.974928  -0.222521   \n",
       "1928369      -0.5  0.866025   0.651372  -0.758758  -0.974928  -0.222521   \n",
       "1928370      -0.5  0.866025   0.651372  -0.758758  -0.974928  -0.222521   \n",
       "\n",
       "         DepTime_sin  DepTime_cos  ArrTime_sin  ArrTime_cos  CRSDepTime_sin  \\\n",
       "0          -0.862072     0.506786    -0.474856     0.880063       -0.880090   \n",
       "1           0.919821    -0.392337     0.495459    -0.868632        0.926094   \n",
       "2           0.997314    -0.073238     0.860742    -0.509041        0.996756   \n",
       "3          -0.997119     0.075849    -0.914607     0.404344       -0.999280   \n",
       "4          -0.933580     0.358368    -0.667183     0.744894       -0.925590   \n",
       "...              ...          ...          ...          ...             ...   \n",
       "1928366    -0.130526    -0.991445    -0.887413    -0.460974       -0.107662   \n",
       "1928367     0.988886    -0.148672     0.699663    -0.714473        0.999627   \n",
       "1928368     0.484046    -0.875042     0.133121    -0.991100        0.774303   \n",
       "1928369    -0.133121    -0.991100    -0.600420    -0.799685       -0.160445   \n",
       "1928370     0.233445    -0.972370    -0.529179    -0.848510        0.202350   \n",
       "\n",
       "         CRSDepTime_cos  CRSArrTime_sin  CRSArrTime_cos  \n",
       "0              0.474807       -0.442289        0.896873  \n",
       "1             -0.377294        0.500000       -0.866025  \n",
       "2             -0.080484        0.923880       -0.382683  \n",
       "3             -0.037946       -0.946930        0.321439  \n",
       "4              0.378527       -0.688355        0.725374  \n",
       "...                 ...             ...             ...  \n",
       "1928366       -0.994188       -0.796530       -0.604599  \n",
       "1928367       -0.027297        0.924878       -0.380263  \n",
       "1928368       -0.632816        0.477159       -0.878817  \n",
       "1928369       -0.987045       -0.581413       -0.813608  \n",
       "1928370       -0.979313       -0.540240       -0.841511  \n",
       "\n",
       "[1928371 rows x 14 columns]"
      ]
     },
     "execution_count": 25,
     "metadata": {},
     "output_type": "execute_result"
    }
   ],
   "source": [
    "delayed_flights.drop(columns=cyclical, inplace=True)\n",
    "cyclical = ['mnth_sin', 'mnth_cos', 'day_M_sin', 'day_M_cos', 'day_W_sin', 'day_W_cos', 'DepTime_sin', 'DepTime_cos', 'ArrTime_sin',\n",
    "       'ArrTime_cos', 'CRSDepTime_sin', 'CRSDepTime_cos', 'CRSArrTime_sin',\n",
    "       'CRSArrTime_cos']\n",
    "delayed_flights[cyclical]"
   ]
  },
  {
   "cell_type": "code",
   "execution_count": 26,
   "id": "53adae00",
   "metadata": {},
   "outputs": [
    {
     "data": {
      "text/html": [
       "<div>\n",
       "<style scoped>\n",
       "    .dataframe tbody tr th:only-of-type {\n",
       "        vertical-align: middle;\n",
       "    }\n",
       "\n",
       "    .dataframe tbody tr th {\n",
       "        vertical-align: top;\n",
       "    }\n",
       "\n",
       "    .dataframe thead th {\n",
       "        text-align: right;\n",
       "    }\n",
       "</style>\n",
       "<table border=\"1\" class=\"dataframe\">\n",
       "  <thead>\n",
       "    <tr style=\"text-align: right;\">\n",
       "      <th></th>\n",
       "      <th>UniqueCarrier</th>\n",
       "      <th>FlightNum</th>\n",
       "      <th>TailNum</th>\n",
       "      <th>Origin</th>\n",
       "      <th>Dest</th>\n",
       "      <th>CancellationCode</th>\n",
       "    </tr>\n",
       "  </thead>\n",
       "  <tbody>\n",
       "    <tr>\n",
       "      <th>0</th>\n",
       "      <td>0.195087</td>\n",
       "      <td>0.000373</td>\n",
       "      <td>0.000332</td>\n",
       "      <td>0.011429</td>\n",
       "      <td>0.011712</td>\n",
       "      <td>1.0</td>\n",
       "    </tr>\n",
       "    <tr>\n",
       "      <th>1</th>\n",
       "      <td>0.195087</td>\n",
       "      <td>0.000083</td>\n",
       "      <td>0.000334</td>\n",
       "      <td>0.011429</td>\n",
       "      <td>0.011712</td>\n",
       "      <td>1.0</td>\n",
       "    </tr>\n",
       "    <tr>\n",
       "      <th>2</th>\n",
       "      <td>0.195087</td>\n",
       "      <td>0.000571</td>\n",
       "      <td>0.000311</td>\n",
       "      <td>0.005016</td>\n",
       "      <td>0.015323</td>\n",
       "      <td>1.0</td>\n",
       "    </tr>\n",
       "    <tr>\n",
       "      <th>3</th>\n",
       "      <td>0.195087</td>\n",
       "      <td>0.000200</td>\n",
       "      <td>0.000365</td>\n",
       "      <td>0.005016</td>\n",
       "      <td>0.015323</td>\n",
       "      <td>1.0</td>\n",
       "    </tr>\n",
       "    <tr>\n",
       "      <th>4</th>\n",
       "      <td>0.195087</td>\n",
       "      <td>0.000639</td>\n",
       "      <td>0.000334</td>\n",
       "      <td>0.005016</td>\n",
       "      <td>0.004954</td>\n",
       "      <td>1.0</td>\n",
       "    </tr>\n",
       "    <tr>\n",
       "      <th>...</th>\n",
       "      <td>...</td>\n",
       "      <td>...</td>\n",
       "      <td>...</td>\n",
       "      <td>...</td>\n",
       "      <td>...</td>\n",
       "      <td>...</td>\n",
       "    </tr>\n",
       "    <tr>\n",
       "      <th>1928366</th>\n",
       "      <td>0.058976</td>\n",
       "      <td>0.000331</td>\n",
       "      <td>0.000230</td>\n",
       "      <td>0.016746</td>\n",
       "      <td>0.055249</td>\n",
       "      <td>1.0</td>\n",
       "    </tr>\n",
       "    <tr>\n",
       "      <th>1928367</th>\n",
       "      <td>0.058976</td>\n",
       "      <td>0.000212</td>\n",
       "      <td>0.000149</td>\n",
       "      <td>0.002468</td>\n",
       "      <td>0.055249</td>\n",
       "      <td>1.0</td>\n",
       "    </tr>\n",
       "    <tr>\n",
       "      <th>1928368</th>\n",
       "      <td>0.058976</td>\n",
       "      <td>0.000212</td>\n",
       "      <td>0.000193</td>\n",
       "      <td>0.068043</td>\n",
       "      <td>0.022625</td>\n",
       "      <td>1.0</td>\n",
       "    </tr>\n",
       "    <tr>\n",
       "      <th>1928369</th>\n",
       "      <td>0.058976</td>\n",
       "      <td>0.000279</td>\n",
       "      <td>0.000155</td>\n",
       "      <td>0.011429</td>\n",
       "      <td>0.055249</td>\n",
       "      <td>1.0</td>\n",
       "    </tr>\n",
       "    <tr>\n",
       "      <th>1928370</th>\n",
       "      <td>0.058976</td>\n",
       "      <td>0.000135</td>\n",
       "      <td>0.000220</td>\n",
       "      <td>0.005631</td>\n",
       "      <td>0.055249</td>\n",
       "      <td>1.0</td>\n",
       "    </tr>\n",
       "  </tbody>\n",
       "</table>\n",
       "<p>1928371 rows × 6 columns</p>\n",
       "</div>"
      ],
      "text/plain": [
       "         UniqueCarrier  FlightNum   TailNum    Origin      Dest  \\\n",
       "0             0.195087   0.000373  0.000332  0.011429  0.011712   \n",
       "1             0.195087   0.000083  0.000334  0.011429  0.011712   \n",
       "2             0.195087   0.000571  0.000311  0.005016  0.015323   \n",
       "3             0.195087   0.000200  0.000365  0.005016  0.015323   \n",
       "4             0.195087   0.000639  0.000334  0.005016  0.004954   \n",
       "...                ...        ...       ...       ...       ...   \n",
       "1928366       0.058976   0.000331  0.000230  0.016746  0.055249   \n",
       "1928367       0.058976   0.000212  0.000149  0.002468  0.055249   \n",
       "1928368       0.058976   0.000212  0.000193  0.068043  0.022625   \n",
       "1928369       0.058976   0.000279  0.000155  0.011429  0.055249   \n",
       "1928370       0.058976   0.000135  0.000220  0.005631  0.055249   \n",
       "\n",
       "         CancellationCode  \n",
       "0                     1.0  \n",
       "1                     1.0  \n",
       "2                     1.0  \n",
       "3                     1.0  \n",
       "4                     1.0  \n",
       "...                   ...  \n",
       "1928366               1.0  \n",
       "1928367               1.0  \n",
       "1928368               1.0  \n",
       "1928369               1.0  \n",
       "1928370               1.0  \n",
       "\n",
       "[1928371 rows x 6 columns]"
      ]
     },
     "execution_count": 26,
     "metadata": {},
     "output_type": "execute_result"
    }
   ],
   "source": [
    "for column in nominal:\n",
    "    mapping = delayed_flights[column].value_counts() / len(delayed_flights)\n",
    "    delayed_flights[column] = delayed_flights[column].map(mapping)\n",
    "\n",
    "delayed_flights[nominal]"
   ]
  },
  {
   "cell_type": "code",
   "execution_count": 27,
   "id": "5772d31a",
   "metadata": {},
   "outputs": [
    {
     "data": {
      "text/html": [
       "<div>\n",
       "<style scoped>\n",
       "    .dataframe tbody tr th:only-of-type {\n",
       "        vertical-align: middle;\n",
       "    }\n",
       "\n",
       "    .dataframe tbody tr th {\n",
       "        vertical-align: top;\n",
       "    }\n",
       "\n",
       "    .dataframe thead th {\n",
       "        text-align: right;\n",
       "    }\n",
       "</style>\n",
       "<table border=\"1\" class=\"dataframe\">\n",
       "  <thead>\n",
       "    <tr style=\"text-align: right;\">\n",
       "      <th></th>\n",
       "      <th>ActualElapsedTime</th>\n",
       "      <th>CRSElapsedTime</th>\n",
       "      <th>AirTime</th>\n",
       "      <th>DepDelay</th>\n",
       "      <th>Distance</th>\n",
       "      <th>TaxiIn</th>\n",
       "      <th>TaxiOut</th>\n",
       "      <th>CarrierDelay</th>\n",
       "      <th>WeatherDelay</th>\n",
       "      <th>NASDelay</th>\n",
       "      <th>SecurityDelay</th>\n",
       "      <th>LateAircraftDelay</th>\n",
       "    </tr>\n",
       "  </thead>\n",
       "  <tbody>\n",
       "    <tr>\n",
       "      <th>0</th>\n",
       "      <td>0.176502</td>\n",
       "      <td>0.477836</td>\n",
       "      <td>0.413230</td>\n",
       "      <td>-1.247490</td>\n",
       "      <td>0.429530</td>\n",
       "      <td>-0.655909</td>\n",
       "      <td>-1.158817</td>\n",
       "      <td>-0.643736</td>\n",
       "      <td>-0.217514</td>\n",
       "      <td>-0.617016</td>\n",
       "      <td>-0.052188</td>\n",
       "      <td>-0.699704</td>\n",
       "    </tr>\n",
       "    <tr>\n",
       "      <th>1</th>\n",
       "      <td>0.176502</td>\n",
       "      <td>0.408951</td>\n",
       "      <td>0.369975</td>\n",
       "      <td>-0.344573</td>\n",
       "      <td>0.429530</td>\n",
       "      <td>-0.251732</td>\n",
       "      <td>-0.757698</td>\n",
       "      <td>-0.643736</td>\n",
       "      <td>-0.217514</td>\n",
       "      <td>-0.617016</td>\n",
       "      <td>-0.052188</td>\n",
       "      <td>-0.699704</td>\n",
       "    </tr>\n",
       "    <tr>\n",
       "      <th>2</th>\n",
       "      <td>-0.391238</td>\n",
       "      <td>-0.560111</td>\n",
       "      <td>-0.284821</td>\n",
       "      <td>-1.247490</td>\n",
       "      <td>-0.167982</td>\n",
       "      <td>-1.176984</td>\n",
       "      <td>0.196150</td>\n",
       "      <td>-0.643736</td>\n",
       "      <td>-0.217514</td>\n",
       "      <td>-0.617016</td>\n",
       "      <td>-0.052188</td>\n",
       "      <td>-0.699704</td>\n",
       "    </tr>\n",
       "    <tr>\n",
       "      <th>3</th>\n",
       "      <td>-0.518605</td>\n",
       "      <td>-0.560111</td>\n",
       "      <td>-0.263242</td>\n",
       "      <td>0.262858</td>\n",
       "      <td>-0.167982</td>\n",
       "      <td>-1.176984</td>\n",
       "      <td>-0.757698</td>\n",
       "      <td>-0.198431</td>\n",
       "      <td>-0.217514</td>\n",
       "      <td>-0.617016</td>\n",
       "      <td>-0.052188</td>\n",
       "      <td>1.309586</td>\n",
       "    </tr>\n",
       "    <tr>\n",
       "      <th>4</th>\n",
       "      <td>-0.291039</td>\n",
       "      <td>-0.062047</td>\n",
       "      <td>-0.061675</td>\n",
       "      <td>-0.058106</td>\n",
       "      <td>0.214145</td>\n",
       "      <td>-0.655909</td>\n",
       "      <td>-0.757698</td>\n",
       "      <td>-0.643736</td>\n",
       "      <td>-0.217514</td>\n",
       "      <td>-0.617016</td>\n",
       "      <td>-0.052188</td>\n",
       "      <td>-0.699704</td>\n",
       "    </tr>\n",
       "    <tr>\n",
       "      <th>...</th>\n",
       "      <td>...</td>\n",
       "      <td>...</td>\n",
       "      <td>...</td>\n",
       "      <td>...</td>\n",
       "      <td>...</td>\n",
       "      <td>...</td>\n",
       "      <td>...</td>\n",
       "      <td>...</td>\n",
       "      <td>...</td>\n",
       "      <td>...</td>\n",
       "      <td>...</td>\n",
       "      <td>...</td>\n",
       "    </tr>\n",
       "    <tr>\n",
       "      <th>1928366</th>\n",
       "      <td>0.449638</td>\n",
       "      <td>0.504749</td>\n",
       "      <td>0.469194</td>\n",
       "      <td>0.132208</td>\n",
       "      <td>0.577309</td>\n",
       "      <td>0.812917</td>\n",
       "      <td>0.298897</td>\n",
       "      <td>0.062056</td>\n",
       "      <td>-0.217514</td>\n",
       "      <td>-0.617016</td>\n",
       "      <td>-0.052188</td>\n",
       "      <td>1.092354</td>\n",
       "    </tr>\n",
       "    <tr>\n",
       "      <th>1928367</th>\n",
       "      <td>0.161023</td>\n",
       "      <td>-0.170924</td>\n",
       "      <td>-0.241941</td>\n",
       "      <td>0.802199</td>\n",
       "      <td>-0.258096</td>\n",
       "      <td>1.738168</td>\n",
       "      <td>1.442139</td>\n",
       "      <td>-0.643736</td>\n",
       "      <td>5.116984</td>\n",
       "      <td>1.397736</td>\n",
       "      <td>-0.052188</td>\n",
       "      <td>-0.699704</td>\n",
       "    </tr>\n",
       "    <tr>\n",
       "      <th>1928368</th>\n",
       "      <td>0.641390</td>\n",
       "      <td>0.380730</td>\n",
       "      <td>0.496481</td>\n",
       "      <td>1.156034</td>\n",
       "      <td>0.216061</td>\n",
       "      <td>0.599578</td>\n",
       "      <td>1.333162</td>\n",
       "      <td>-0.643736</td>\n",
       "      <td>-0.217514</td>\n",
       "      <td>1.435423</td>\n",
       "      <td>-0.052188</td>\n",
       "      <td>1.833521</td>\n",
       "    </tr>\n",
       "    <tr>\n",
       "      <th>1928369</th>\n",
       "      <td>-0.034856</td>\n",
       "      <td>-0.027013</td>\n",
       "      <td>-0.024155</td>\n",
       "      <td>-0.915076</td>\n",
       "      <td>-0.122655</td>\n",
       "      <td>1.478972</td>\n",
       "      <td>-0.286077</td>\n",
       "      <td>-0.643736</td>\n",
       "      <td>-0.217514</td>\n",
       "      <td>-0.617016</td>\n",
       "      <td>-0.052188</td>\n",
       "      <td>-0.699704</td>\n",
       "    </tr>\n",
       "    <tr>\n",
       "      <th>1928370</th>\n",
       "      <td>0.097866</td>\n",
       "      <td>0.263754</td>\n",
       "      <td>0.232964</td>\n",
       "      <td>-1.386875</td>\n",
       "      <td>0.529865</td>\n",
       "      <td>0.599578</td>\n",
       "      <td>-0.586370</td>\n",
       "      <td>-0.643736</td>\n",
       "      <td>-0.217514</td>\n",
       "      <td>-0.617016</td>\n",
       "      <td>-0.052188</td>\n",
       "      <td>-0.699704</td>\n",
       "    </tr>\n",
       "  </tbody>\n",
       "</table>\n",
       "<p>1928371 rows × 12 columns</p>\n",
       "</div>"
      ],
      "text/plain": [
       "         ActualElapsedTime  CRSElapsedTime   AirTime  DepDelay  Distance  \\\n",
       "0                 0.176502        0.477836  0.413230 -1.247490  0.429530   \n",
       "1                 0.176502        0.408951  0.369975 -0.344573  0.429530   \n",
       "2                -0.391238       -0.560111 -0.284821 -1.247490 -0.167982   \n",
       "3                -0.518605       -0.560111 -0.263242  0.262858 -0.167982   \n",
       "4                -0.291039       -0.062047 -0.061675 -0.058106  0.214145   \n",
       "...                    ...             ...       ...       ...       ...   \n",
       "1928366           0.449638        0.504749  0.469194  0.132208  0.577309   \n",
       "1928367           0.161023       -0.170924 -0.241941  0.802199 -0.258096   \n",
       "1928368           0.641390        0.380730  0.496481  1.156034  0.216061   \n",
       "1928369          -0.034856       -0.027013 -0.024155 -0.915076 -0.122655   \n",
       "1928370           0.097866        0.263754  0.232964 -1.386875  0.529865   \n",
       "\n",
       "           TaxiIn   TaxiOut  CarrierDelay  WeatherDelay  NASDelay  \\\n",
       "0       -0.655909 -1.158817     -0.643736     -0.217514 -0.617016   \n",
       "1       -0.251732 -0.757698     -0.643736     -0.217514 -0.617016   \n",
       "2       -1.176984  0.196150     -0.643736     -0.217514 -0.617016   \n",
       "3       -1.176984 -0.757698     -0.198431     -0.217514 -0.617016   \n",
       "4       -0.655909 -0.757698     -0.643736     -0.217514 -0.617016   \n",
       "...           ...       ...           ...           ...       ...   \n",
       "1928366  0.812917  0.298897      0.062056     -0.217514 -0.617016   \n",
       "1928367  1.738168  1.442139     -0.643736      5.116984  1.397736   \n",
       "1928368  0.599578  1.333162     -0.643736     -0.217514  1.435423   \n",
       "1928369  1.478972 -0.286077     -0.643736     -0.217514 -0.617016   \n",
       "1928370  0.599578 -0.586370     -0.643736     -0.217514 -0.617016   \n",
       "\n",
       "         SecurityDelay  LateAircraftDelay  \n",
       "0            -0.052188          -0.699704  \n",
       "1            -0.052188          -0.699704  \n",
       "2            -0.052188          -0.699704  \n",
       "3            -0.052188           1.309586  \n",
       "4            -0.052188          -0.699704  \n",
       "...                ...                ...  \n",
       "1928366      -0.052188           1.092354  \n",
       "1928367      -0.052188          -0.699704  \n",
       "1928368      -0.052188           1.833521  \n",
       "1928369      -0.052188          -0.699704  \n",
       "1928370      -0.052188          -0.699704  \n",
       "\n",
       "[1928371 rows x 12 columns]"
      ]
     },
     "execution_count": 27,
     "metadata": {},
     "output_type": "execute_result"
    }
   ],
   "source": [
    "scaler = StandardScaler()\n",
    "delayed_flights[numerical] = scaler.fit_transform(delayed_flights[numerical])\n",
    "delayed_flights[numerical]"
   ]
  },
  {
   "cell_type": "code",
   "execution_count": 28,
   "id": "8cd2d4e7",
   "metadata": {},
   "outputs": [
    {
     "data": {
      "text/html": [
       "<div>\n",
       "<style scoped>\n",
       "    .dataframe tbody tr th:only-of-type {\n",
       "        vertical-align: middle;\n",
       "    }\n",
       "\n",
       "    .dataframe tbody tr th {\n",
       "        vertical-align: top;\n",
       "    }\n",
       "\n",
       "    .dataframe thead th {\n",
       "        text-align: right;\n",
       "    }\n",
       "</style>\n",
       "<table border=\"1\" class=\"dataframe\">\n",
       "  <thead>\n",
       "    <tr style=\"text-align: right;\">\n",
       "      <th></th>\n",
       "      <th>UniqueCarrier</th>\n",
       "      <th>FlightNum</th>\n",
       "      <th>TailNum</th>\n",
       "      <th>ActualElapsedTime</th>\n",
       "      <th>CRSElapsedTime</th>\n",
       "      <th>AirTime</th>\n",
       "      <th>ArrDelay</th>\n",
       "      <th>DepDelay</th>\n",
       "      <th>Origin</th>\n",
       "      <th>Dest</th>\n",
       "      <th>...</th>\n",
       "      <th>day_W_sin</th>\n",
       "      <th>day_W_cos</th>\n",
       "      <th>DepTime_sin</th>\n",
       "      <th>DepTime_cos</th>\n",
       "      <th>CRSDepTime_sin</th>\n",
       "      <th>CRSDepTime_cos</th>\n",
       "      <th>ArrTime_sin</th>\n",
       "      <th>ArrTime_cos</th>\n",
       "      <th>CRSArrTime_sin</th>\n",
       "      <th>CRSArrTime_cos</th>\n",
       "    </tr>\n",
       "  </thead>\n",
       "  <tbody>\n",
       "    <tr>\n",
       "      <th>0</th>\n",
       "      <td>0.195087</td>\n",
       "      <td>0.000373</td>\n",
       "      <td>0.000332</td>\n",
       "      <td>0.176502</td>\n",
       "      <td>0.477836</td>\n",
       "      <td>0.413230</td>\n",
       "      <td>0</td>\n",
       "      <td>-1.247490</td>\n",
       "      <td>0.011429</td>\n",
       "      <td>0.011712</td>\n",
       "      <td>...</td>\n",
       "      <td>0.433884</td>\n",
       "      <td>-0.900969</td>\n",
       "      <td>-0.862072</td>\n",
       "      <td>0.506786</td>\n",
       "      <td>-0.880090</td>\n",
       "      <td>0.474807</td>\n",
       "      <td>-0.474856</td>\n",
       "      <td>0.880063</td>\n",
       "      <td>-0.442289</td>\n",
       "      <td>0.896873</td>\n",
       "    </tr>\n",
       "    <tr>\n",
       "      <th>1</th>\n",
       "      <td>0.195087</td>\n",
       "      <td>0.000083</td>\n",
       "      <td>0.000334</td>\n",
       "      <td>0.176502</td>\n",
       "      <td>0.408951</td>\n",
       "      <td>0.369975</td>\n",
       "      <td>1</td>\n",
       "      <td>-0.344573</td>\n",
       "      <td>0.011429</td>\n",
       "      <td>0.011712</td>\n",
       "      <td>...</td>\n",
       "      <td>0.433884</td>\n",
       "      <td>-0.900969</td>\n",
       "      <td>0.919821</td>\n",
       "      <td>-0.392337</td>\n",
       "      <td>0.926094</td>\n",
       "      <td>-0.377294</td>\n",
       "      <td>0.495459</td>\n",
       "      <td>-0.868632</td>\n",
       "      <td>0.500000</td>\n",
       "      <td>-0.866025</td>\n",
       "    </tr>\n",
       "    <tr>\n",
       "      <th>2</th>\n",
       "      <td>0.195087</td>\n",
       "      <td>0.000571</td>\n",
       "      <td>0.000311</td>\n",
       "      <td>-0.391238</td>\n",
       "      <td>-0.560111</td>\n",
       "      <td>-0.284821</td>\n",
       "      <td>1</td>\n",
       "      <td>-1.247490</td>\n",
       "      <td>0.005016</td>\n",
       "      <td>0.015323</td>\n",
       "      <td>...</td>\n",
       "      <td>0.433884</td>\n",
       "      <td>-0.900969</td>\n",
       "      <td>0.997314</td>\n",
       "      <td>-0.073238</td>\n",
       "      <td>0.996756</td>\n",
       "      <td>-0.080484</td>\n",
       "      <td>0.860742</td>\n",
       "      <td>-0.509041</td>\n",
       "      <td>0.923880</td>\n",
       "      <td>-0.382683</td>\n",
       "    </tr>\n",
       "    <tr>\n",
       "      <th>3</th>\n",
       "      <td>0.195087</td>\n",
       "      <td>0.000200</td>\n",
       "      <td>0.000365</td>\n",
       "      <td>-0.518605</td>\n",
       "      <td>-0.560111</td>\n",
       "      <td>-0.263242</td>\n",
       "      <td>1</td>\n",
       "      <td>0.262858</td>\n",
       "      <td>0.005016</td>\n",
       "      <td>0.015323</td>\n",
       "      <td>...</td>\n",
       "      <td>0.433884</td>\n",
       "      <td>-0.900969</td>\n",
       "      <td>-0.997119</td>\n",
       "      <td>0.075849</td>\n",
       "      <td>-0.999280</td>\n",
       "      <td>-0.037946</td>\n",
       "      <td>-0.914607</td>\n",
       "      <td>0.404344</td>\n",
       "      <td>-0.946930</td>\n",
       "      <td>0.321439</td>\n",
       "    </tr>\n",
       "    <tr>\n",
       "      <th>4</th>\n",
       "      <td>0.195087</td>\n",
       "      <td>0.000639</td>\n",
       "      <td>0.000334</td>\n",
       "      <td>-0.291039</td>\n",
       "      <td>-0.062047</td>\n",
       "      <td>-0.061675</td>\n",
       "      <td>1</td>\n",
       "      <td>-0.058106</td>\n",
       "      <td>0.005016</td>\n",
       "      <td>0.004954</td>\n",
       "      <td>...</td>\n",
       "      <td>0.433884</td>\n",
       "      <td>-0.900969</td>\n",
       "      <td>-0.933580</td>\n",
       "      <td>0.358368</td>\n",
       "      <td>-0.925590</td>\n",
       "      <td>0.378527</td>\n",
       "      <td>-0.667183</td>\n",
       "      <td>0.744894</td>\n",
       "      <td>-0.688355</td>\n",
       "      <td>0.725374</td>\n",
       "    </tr>\n",
       "    <tr>\n",
       "      <th>...</th>\n",
       "      <td>...</td>\n",
       "      <td>...</td>\n",
       "      <td>...</td>\n",
       "      <td>...</td>\n",
       "      <td>...</td>\n",
       "      <td>...</td>\n",
       "      <td>...</td>\n",
       "      <td>...</td>\n",
       "      <td>...</td>\n",
       "      <td>...</td>\n",
       "      <td>...</td>\n",
       "      <td>...</td>\n",
       "      <td>...</td>\n",
       "      <td>...</td>\n",
       "      <td>...</td>\n",
       "      <td>...</td>\n",
       "      <td>...</td>\n",
       "      <td>...</td>\n",
       "      <td>...</td>\n",
       "      <td>...</td>\n",
       "      <td>...</td>\n",
       "    </tr>\n",
       "    <tr>\n",
       "      <th>1928366</th>\n",
       "      <td>0.058976</td>\n",
       "      <td>0.000331</td>\n",
       "      <td>0.000230</td>\n",
       "      <td>0.449638</td>\n",
       "      <td>0.504749</td>\n",
       "      <td>0.469194</td>\n",
       "      <td>1</td>\n",
       "      <td>0.132208</td>\n",
       "      <td>0.016746</td>\n",
       "      <td>0.055249</td>\n",
       "      <td>...</td>\n",
       "      <td>-0.974928</td>\n",
       "      <td>-0.222521</td>\n",
       "      <td>-0.130526</td>\n",
       "      <td>-0.991445</td>\n",
       "      <td>-0.107662</td>\n",
       "      <td>-0.994188</td>\n",
       "      <td>-0.887413</td>\n",
       "      <td>-0.460974</td>\n",
       "      <td>-0.796530</td>\n",
       "      <td>-0.604599</td>\n",
       "    </tr>\n",
       "    <tr>\n",
       "      <th>1928367</th>\n",
       "      <td>0.058976</td>\n",
       "      <td>0.000212</td>\n",
       "      <td>0.000149</td>\n",
       "      <td>0.161023</td>\n",
       "      <td>-0.170924</td>\n",
       "      <td>-0.241941</td>\n",
       "      <td>1</td>\n",
       "      <td>0.802199</td>\n",
       "      <td>0.002468</td>\n",
       "      <td>0.055249</td>\n",
       "      <td>...</td>\n",
       "      <td>-0.974928</td>\n",
       "      <td>-0.222521</td>\n",
       "      <td>0.988886</td>\n",
       "      <td>-0.148672</td>\n",
       "      <td>0.999627</td>\n",
       "      <td>-0.027297</td>\n",
       "      <td>0.699663</td>\n",
       "      <td>-0.714473</td>\n",
       "      <td>0.924878</td>\n",
       "      <td>-0.380263</td>\n",
       "    </tr>\n",
       "    <tr>\n",
       "      <th>1928368</th>\n",
       "      <td>0.058976</td>\n",
       "      <td>0.000212</td>\n",
       "      <td>0.000193</td>\n",
       "      <td>0.641390</td>\n",
       "      <td>0.380730</td>\n",
       "      <td>0.496481</td>\n",
       "      <td>1</td>\n",
       "      <td>1.156034</td>\n",
       "      <td>0.068043</td>\n",
       "      <td>0.022625</td>\n",
       "      <td>...</td>\n",
       "      <td>-0.974928</td>\n",
       "      <td>-0.222521</td>\n",
       "      <td>0.484046</td>\n",
       "      <td>-0.875042</td>\n",
       "      <td>0.774303</td>\n",
       "      <td>-0.632816</td>\n",
       "      <td>0.133121</td>\n",
       "      <td>-0.991100</td>\n",
       "      <td>0.477159</td>\n",
       "      <td>-0.878817</td>\n",
       "    </tr>\n",
       "    <tr>\n",
       "      <th>1928369</th>\n",
       "      <td>0.058976</td>\n",
       "      <td>0.000279</td>\n",
       "      <td>0.000155</td>\n",
       "      <td>-0.034856</td>\n",
       "      <td>-0.027013</td>\n",
       "      <td>-0.024155</td>\n",
       "      <td>1</td>\n",
       "      <td>-0.915076</td>\n",
       "      <td>0.011429</td>\n",
       "      <td>0.055249</td>\n",
       "      <td>...</td>\n",
       "      <td>-0.974928</td>\n",
       "      <td>-0.222521</td>\n",
       "      <td>-0.133121</td>\n",
       "      <td>-0.991100</td>\n",
       "      <td>-0.160445</td>\n",
       "      <td>-0.987045</td>\n",
       "      <td>-0.600420</td>\n",
       "      <td>-0.799685</td>\n",
       "      <td>-0.581413</td>\n",
       "      <td>-0.813608</td>\n",
       "    </tr>\n",
       "    <tr>\n",
       "      <th>1928370</th>\n",
       "      <td>0.058976</td>\n",
       "      <td>0.000135</td>\n",
       "      <td>0.000220</td>\n",
       "      <td>0.097866</td>\n",
       "      <td>0.263754</td>\n",
       "      <td>0.232964</td>\n",
       "      <td>0</td>\n",
       "      <td>-1.386875</td>\n",
       "      <td>0.005631</td>\n",
       "      <td>0.055249</td>\n",
       "      <td>...</td>\n",
       "      <td>-0.974928</td>\n",
       "      <td>-0.222521</td>\n",
       "      <td>0.233445</td>\n",
       "      <td>-0.972370</td>\n",
       "      <td>0.202350</td>\n",
       "      <td>-0.979313</td>\n",
       "      <td>-0.529179</td>\n",
       "      <td>-0.848510</td>\n",
       "      <td>-0.540240</td>\n",
       "      <td>-0.841511</td>\n",
       "    </tr>\n",
       "  </tbody>\n",
       "</table>\n",
       "<p>1928371 rows × 33 columns</p>\n",
       "</div>"
      ],
      "text/plain": [
       "         UniqueCarrier  FlightNum   TailNum  ActualElapsedTime  \\\n",
       "0             0.195087   0.000373  0.000332           0.176502   \n",
       "1             0.195087   0.000083  0.000334           0.176502   \n",
       "2             0.195087   0.000571  0.000311          -0.391238   \n",
       "3             0.195087   0.000200  0.000365          -0.518605   \n",
       "4             0.195087   0.000639  0.000334          -0.291039   \n",
       "...                ...        ...       ...                ...   \n",
       "1928366       0.058976   0.000331  0.000230           0.449638   \n",
       "1928367       0.058976   0.000212  0.000149           0.161023   \n",
       "1928368       0.058976   0.000212  0.000193           0.641390   \n",
       "1928369       0.058976   0.000279  0.000155          -0.034856   \n",
       "1928370       0.058976   0.000135  0.000220           0.097866   \n",
       "\n",
       "         CRSElapsedTime   AirTime  ArrDelay  DepDelay    Origin      Dest  \\\n",
       "0              0.477836  0.413230         0 -1.247490  0.011429  0.011712   \n",
       "1              0.408951  0.369975         1 -0.344573  0.011429  0.011712   \n",
       "2             -0.560111 -0.284821         1 -1.247490  0.005016  0.015323   \n",
       "3             -0.560111 -0.263242         1  0.262858  0.005016  0.015323   \n",
       "4             -0.062047 -0.061675         1 -0.058106  0.005016  0.004954   \n",
       "...                 ...       ...       ...       ...       ...       ...   \n",
       "1928366        0.504749  0.469194         1  0.132208  0.016746  0.055249   \n",
       "1928367       -0.170924 -0.241941         1  0.802199  0.002468  0.055249   \n",
       "1928368        0.380730  0.496481         1  1.156034  0.068043  0.022625   \n",
       "1928369       -0.027013 -0.024155         1 -0.915076  0.011429  0.055249   \n",
       "1928370        0.263754  0.232964         0 -1.386875  0.005631  0.055249   \n",
       "\n",
       "         ...  day_W_sin  day_W_cos  DepTime_sin  DepTime_cos  CRSDepTime_sin  \\\n",
       "0        ...   0.433884  -0.900969    -0.862072     0.506786       -0.880090   \n",
       "1        ...   0.433884  -0.900969     0.919821    -0.392337        0.926094   \n",
       "2        ...   0.433884  -0.900969     0.997314    -0.073238        0.996756   \n",
       "3        ...   0.433884  -0.900969    -0.997119     0.075849       -0.999280   \n",
       "4        ...   0.433884  -0.900969    -0.933580     0.358368       -0.925590   \n",
       "...      ...        ...        ...          ...          ...             ...   \n",
       "1928366  ...  -0.974928  -0.222521    -0.130526    -0.991445       -0.107662   \n",
       "1928367  ...  -0.974928  -0.222521     0.988886    -0.148672        0.999627   \n",
       "1928368  ...  -0.974928  -0.222521     0.484046    -0.875042        0.774303   \n",
       "1928369  ...  -0.974928  -0.222521    -0.133121    -0.991100       -0.160445   \n",
       "1928370  ...  -0.974928  -0.222521     0.233445    -0.972370        0.202350   \n",
       "\n",
       "         CRSDepTime_cos  ArrTime_sin  ArrTime_cos  CRSArrTime_sin  \\\n",
       "0              0.474807    -0.474856     0.880063       -0.442289   \n",
       "1             -0.377294     0.495459    -0.868632        0.500000   \n",
       "2             -0.080484     0.860742    -0.509041        0.923880   \n",
       "3             -0.037946    -0.914607     0.404344       -0.946930   \n",
       "4              0.378527    -0.667183     0.744894       -0.688355   \n",
       "...                 ...          ...          ...             ...   \n",
       "1928366       -0.994188    -0.887413    -0.460974       -0.796530   \n",
       "1928367       -0.027297     0.699663    -0.714473        0.924878   \n",
       "1928368       -0.632816     0.133121    -0.991100        0.477159   \n",
       "1928369       -0.987045    -0.600420    -0.799685       -0.581413   \n",
       "1928370       -0.979313    -0.529179    -0.848510       -0.540240   \n",
       "\n",
       "         CRSArrTime_cos  \n",
       "0              0.896873  \n",
       "1             -0.866025  \n",
       "2             -0.382683  \n",
       "3              0.321439  \n",
       "4              0.725374  \n",
       "...                 ...  \n",
       "1928366       -0.604599  \n",
       "1928367       -0.380263  \n",
       "1928368       -0.878817  \n",
       "1928369       -0.813608  \n",
       "1928370       -0.841511  \n",
       "\n",
       "[1928371 rows x 33 columns]"
      ]
     },
     "execution_count": 28,
     "metadata": {},
     "output_type": "execute_result"
    }
   ],
   "source": [
    "delayed_flights"
   ]
  },
  {
   "cell_type": "markdown",
   "id": "3883e3c2",
   "metadata": {},
   "source": [
    "Realitzarem els següents exercicis alhora, ja que és difícil segmentar el treball i fer-los un a un\n",
    "\n",
    "- Exercici 1\n",
    "\n",
    "Crea almenys tres models de classificació diferents per intentar predir el millor possible l’endarreriment dels vols (ArrDelay) de DelayedFlights.csv. Considera si el vol ha arribat tard o no (ArrDelay > 0).\n",
    "\n",
    "- Exercici 2\n",
    "\n",
    "Compara els models de classificació utilitzant la precisió (accuracy), una matriu de confiança i d’altres mètriques més avançades.\n",
    "\n",
    "- Exercici 4\n",
    "\n",
    "Compara el seu rendiment utilitzant l’aproximació traint/test o cross-validation.\n",
    "\n",
    "- Exercici 6\n",
    "\n",
    "No utilitzis la variable DepDelay a l’hora de fer prediccions\n"
   ]
  },
  {
   "cell_type": "code",
   "execution_count": 29,
   "id": "a37e8ae9",
   "metadata": {
    "scrolled": false
   },
   "outputs": [
    {
     "data": {
      "text/plain": [
       "1    1723415\n",
       "0     204956\n",
       "Name: ArrDelay, dtype: int64"
      ]
     },
     "execution_count": 29,
     "metadata": {},
     "output_type": "execute_result"
    }
   ],
   "source": [
    "delayed_flights.ArrDelay.value_counts()"
   ]
  },
  {
   "cell_type": "code",
   "execution_count": 30,
   "id": "a8808890",
   "metadata": {
    "scrolled": true
   },
   "outputs": [
    {
     "data": {
      "text/plain": [
       "[None]"
      ]
     },
     "execution_count": 30,
     "metadata": {},
     "output_type": "execute_result"
    },
    {
     "data": {
      "image/png": "[encoded data removed]",
      "text/plain": [
       "<Figure size 432x288 with 1 Axes>"
      ]
     },
     "metadata": {
      "needs_background": "light"
     },
     "output_type": "display_data"
    }
   ],
   "source": [
    "fig = sns.countplot(x=delayed_flights.ArrDelay)\n",
    "fig.set(yscale=\"log\")"
   ]
  },
  {
   "cell_type": "markdown",
   "id": "a263ae9a",
   "metadata": {},
   "source": [
    "En primer lloc, veiem que el nostre target està desbalancejat. Abans d'aplicar SMOTE, establirem el nostre baseline en base a un model que només prediu que hi haurà retràs."
   ]
  },
  {
   "cell_type": "code",
   "execution_count": 31,
   "id": "6c7e8c62",
   "metadata": {},
   "outputs": [
    {
     "data": {
      "text/plain": [
       "0.8937154728006177"
      ]
     },
     "execution_count": 31,
     "metadata": {},
     "output_type": "execute_result"
    }
   ],
   "source": [
    "metrics.accuracy_score(delayed_flights.ArrDelay, np.ones(len(delayed_flights)))"
   ]
  },
  {
   "cell_type": "markdown",
   "id": "e4ac0297",
   "metadata": {},
   "source": [
    "L'accuracy no resulta molt fiable quan tractem un data set desbalancejat. Només cal veure la matriu de confusió a continuació (204956 False Positives)."
   ]
  },
  {
   "cell_type": "code",
   "execution_count": 32,
   "id": "28f9271a",
   "metadata": {
    "scrolled": true
   },
   "outputs": [
    {
     "data": {
      "image/png": "[encoded data removed]",
      "text/plain": [
       "<Figure size 432x288 with 2 Axes>"
      ]
     },
     "metadata": {
      "needs_background": "light"
     },
     "output_type": "display_data"
    }
   ],
   "source": [
    "sns.heatmap(metrics.confusion_matrix(delayed_flights.ArrDelay, np.ones(len(delayed_flights))), annot=True, fmt='.9g')\n",
    "sns.set(rc={'figure.figsize':(5, 5)})"
   ]
  },
  {
   "cell_type": "markdown",
   "id": "cee4047e",
   "metadata": {},
   "source": [
    "Ens servirá més aviat el valor AUC a la hora de comparar la efectivitat dels models."
   ]
  },
  {
   "cell_type": "code",
   "execution_count": 33,
   "id": "9f2e1e83",
   "metadata": {
    "scrolled": false
   },
   "outputs": [
    {
     "data": {
      "text/plain": [
       "0.5"
      ]
     },
     "execution_count": 33,
     "metadata": {},
     "output_type": "execute_result"
    }
   ],
   "source": [
    "metrics.roc_auc_score(delayed_flights.ArrDelay, np.ones(len(delayed_flights)))"
   ]
  },
  {
   "cell_type": "markdown",
   "id": "d90f732e",
   "metadata": {},
   "source": [
    "Separem entre train y test."
   ]
  },
  {
   "cell_type": "code",
   "execution_count": 34,
   "id": "85b2d127",
   "metadata": {},
   "outputs": [],
   "source": [
    "y = pd.DataFrame(data=delayed_flights.ArrDelay)\n",
    "X = delayed_flights.drop(columns=['ArrDelay', 'DepDelay'])\n",
    "\n",
    "X_train, X_test, y_train, y_test = train_test_split(X, y, test_size=0.33, random_state=42, stratify=y, shuffle=True)"
   ]
  },
  {
   "cell_type": "markdown",
   "id": "ec093069",
   "metadata": {},
   "source": [
    "Realitzem un sample, ja que el data set segueix sent molt gran."
   ]
  },
  {
   "cell_type": "code",
   "execution_count": 35,
   "id": "2d3eda03",
   "metadata": {},
   "outputs": [],
   "source": [
    "X_tsample, X_extra, y_tsample, y_extra = train_test_split(X_train, y_train, train_size=0.3, random_state=42, stratify=y_train, shuffle=True)"
   ]
  },
  {
   "cell_type": "code",
   "execution_count": 36,
   "id": "55fbaefe",
   "metadata": {
    "scrolled": true
   },
   "outputs": [
    {
     "data": {
      "text/plain": [
       "ArrDelay\n",
       "1           346406\n",
       "0            41196\n",
       "dtype: int64"
      ]
     },
     "execution_count": 36,
     "metadata": {},
     "output_type": "execute_result"
    }
   ],
   "source": [
    "y_tsample.value_counts()"
   ]
  },
  {
   "cell_type": "markdown",
   "id": "03ab7051",
   "metadata": {},
   "source": [
    "Realitzarem un SMOTE y un Under Sampling alhora."
   ]
  },
  {
   "cell_type": "code",
   "execution_count": 37,
   "id": "e869cb29",
   "metadata": {},
   "outputs": [],
   "source": [
    "X_tsample, y_tsample = SMOTE(sampling_strategy=0.3).fit_resample(X_tsample, y_tsample)\n",
    "X_tsample, y_tsample = RandomUnderSampler(sampling_strategy=0.5).fit_resample(X_tsample, y_tsample)"
   ]
  },
  {
   "cell_type": "code",
   "execution_count": 38,
   "id": "5f603a67",
   "metadata": {
    "scrolled": true
   },
   "outputs": [
    {
     "data": {
      "text/plain": [
       "ArrDelay\n",
       "1           207842\n",
       "0           103921\n",
       "dtype: int64"
      ]
     },
     "execution_count": 38,
     "metadata": {},
     "output_type": "execute_result"
    }
   ],
   "source": [
    "y_tsample.value_counts()"
   ]
  },
  {
   "cell_type": "markdown",
   "id": "809351ed",
   "metadata": {},
   "source": [
    "## Decision Tree"
   ]
  },
  {
   "cell_type": "code",
   "execution_count": 39,
   "id": "9bbb1ecd",
   "metadata": {},
   "outputs": [],
   "source": [
    "def cross_val(cv, model):\n",
    "    score = cross_validate(model, X_tsample, y_tsample, scoring=['roc_auc', 'accuracy'], cv=cv, n_jobs=-1)\n",
    "    report = pd.DataFrame(data=score).mean()\n",
    "    return report"
   ]
  },
  {
   "cell_type": "code",
   "execution_count": 40,
   "id": "f0c1de63",
   "metadata": {},
   "outputs": [],
   "source": [
    "tree = DecisionTreeClassifier(random_state=42)\n",
    "cv = RepeatedStratifiedKFold(n_splits=3, n_repeats=3, random_state=42)"
   ]
  },
  {
   "cell_type": "code",
   "execution_count": 41,
   "id": "20b06ca3",
   "metadata": {
    "scrolled": true
   },
   "outputs": [
    {
     "data": {
      "text/plain": [
       "fit_time         5.851222\n",
       "score_time       0.137953\n",
       "test_roc_auc     0.873705\n",
       "test_accuracy    0.887684\n",
       "dtype: float64"
      ]
     },
     "execution_count": 41,
     "metadata": {},
     "output_type": "execute_result"
    }
   ],
   "source": [
    "cross_val(cv, tree)"
   ]
  },
  {
   "cell_type": "markdown",
   "id": "c38721a3",
   "metadata": {},
   "source": [
    "El cross validation ens dona un accuracy menor que el baseline però un valor AUC molt major. Per tant podriem dir que hem superat el baseline, ja que el decision tree aconsegueix un bon grau d'efectivitat sensibilitat-especificitat."
   ]
  },
  {
   "cell_type": "markdown",
   "id": "4ca6c8e9",
   "metadata": {},
   "source": [
    "A continuació, passarem valors de test per observar com funciona realment (s'ha de dir que ha sigut entrenat amb un percentatge molt baix de dades, comparades amb el volum de dades de test que li estem passant)"
   ]
  },
  {
   "cell_type": "code",
   "execution_count": 42,
   "id": "587a492a",
   "metadata": {},
   "outputs": [
    {
     "data": {
      "text/plain": [
       "0.8895897467326038"
      ]
     },
     "execution_count": 42,
     "metadata": {},
     "output_type": "execute_result"
    }
   ],
   "source": [
    "tree.fit(X_tsample,y_tsample)\n",
    "tree_pred = tree.predict(X_test)\n",
    "metrics.accuracy_score(y_test, tree_pred)"
   ]
  },
  {
   "cell_type": "code",
   "execution_count": 43,
   "id": "68ccbe38",
   "metadata": {},
   "outputs": [
    {
     "data": {
      "image/png": "[encoded data removed]",
      "text/plain": [
       "<Figure size 360x360 with 2 Axes>"
      ]
     },
     "metadata": {},
     "output_type": "display_data"
    }
   ],
   "source": [
    "sns.heatmap(metrics.confusion_matrix(y_test, tree_pred), annot=True, fmt='.9g')\n",
    "sns.set(rc={'figure.figsize':(5, 5)})"
   ]
  },
  {
   "cell_type": "markdown",
   "id": "1272feec",
   "metadata": {},
   "source": [
    "La cuantitat de False Positives ha baixat de 204k a 24k. Tot i això, el model s'ha equivocat 45k vegades amb False Negatives."
   ]
  },
  {
   "cell_type": "code",
   "execution_count": 44,
   "id": "c6ca8deb",
   "metadata": {
    "scrolled": true
   },
   "outputs": [
    {
     "data": {
      "text/plain": [
       "0.7810688126165942"
      ]
     },
     "execution_count": 44,
     "metadata": {},
     "output_type": "execute_result"
    }
   ],
   "source": [
    "metrics.roc_auc_score(y_test, tree_pred)"
   ]
  },
  {
   "cell_type": "markdown",
   "id": "9614fd2f",
   "metadata": {},
   "source": [
    "Observem que, com esperàvem, l'efectivitat del model ha baixat (lleugerament en precisió però significativament en el valor AUC). Tot i així, considerem que el model aconsegueix una efectivitat per sobre del baseline que hem establert."
   ]
  },
  {
   "cell_type": "markdown",
   "id": "dd399db8",
   "metadata": {},
   "source": [
    "## Logistic regression"
   ]
  },
  {
   "cell_type": "code",
   "execution_count": 45,
   "id": "12fd00f9",
   "metadata": {
    "scrolled": false
   },
   "outputs": [
    {
     "data": {
      "text/plain": [
       "fit_time         8.119407\n",
       "score_time       0.154030\n",
       "test_roc_auc     0.975494\n",
       "test_accuracy    0.930242\n",
       "dtype: float64"
      ]
     },
     "execution_count": 45,
     "metadata": {},
     "output_type": "execute_result"
    }
   ],
   "source": [
    "logistic = LogisticRegression(random_state=42)\n",
    "cross_val(cv, logistic)"
   ]
  },
  {
   "cell_type": "markdown",
   "id": "bb543a13",
   "metadata": {},
   "source": [
    "La regressió logística aconsegueix en la fase de validació uns valors molt alts en accuracy y, especialment, en el valor AUC."
   ]
  },
  {
   "cell_type": "code",
   "execution_count": 46,
   "id": "0ed3b76a",
   "metadata": {},
   "outputs": [
    {
     "data": {
      "text/plain": [
       "0.9264240692812121"
      ]
     },
     "execution_count": 46,
     "metadata": {},
     "output_type": "execute_result"
    }
   ],
   "source": [
    "logistic.fit(X_tsample,np.ravel(y_tsample))\n",
    "log_pred = logistic.predict(X_test)\n",
    "metrics.accuracy_score(y_test, log_pred)"
   ]
  },
  {
   "cell_type": "code",
   "execution_count": 47,
   "id": "a393ce80",
   "metadata": {},
   "outputs": [
    {
     "data": {
      "image/png": "[encoded data removed]",
      "text/plain": [
       "<Figure size 360x360 with 2 Axes>"
      ]
     },
     "metadata": {},
     "output_type": "display_data"
    }
   ],
   "source": [
    "sns.heatmap(metrics.confusion_matrix(y_test, log_pred), annot=True, fmt='.9g')\n",
    "sns.set(rc={'figure.figsize':(5, 5)})"
   ]
  },
  {
   "cell_type": "markdown",
   "id": "8d83404b",
   "metadata": {},
   "source": [
    "La regressió logística aconsegueix baixar molt els False Positives fins a 5k i moderadament els False Negatives a 41k."
   ]
  },
  {
   "cell_type": "code",
   "execution_count": 48,
   "id": "aaf2fa2d",
   "metadata": {},
   "outputs": [
    {
     "data": {
      "text/plain": [
       "0.9189427085649254"
      ]
     },
     "execution_count": 48,
     "metadata": {},
     "output_type": "execute_result"
    }
   ],
   "source": [
    "metrics.roc_auc_score(y_test, log_pred)"
   ]
  },
  {
   "cell_type": "markdown",
   "id": "4a792ab7",
   "metadata": {},
   "source": [
    "Tot i que en la fase de test hem obtingut uns valors menors als de la fase de validació, sembla que la regressió logística funciona especialment bé."
   ]
  },
  {
   "cell_type": "markdown",
   "id": "4b11abaa",
   "metadata": {},
   "source": [
    "## XGBoost (FER PLOT DEL ARBRE)"
   ]
  },
  {
   "cell_type": "code",
   "execution_count": 79,
   "id": "4024496e",
   "metadata": {
    "scrolled": false
   },
   "outputs": [
    {
     "data": {
      "text/plain": [
       "fit_time         66.626639\n",
       "score_time        0.258709\n",
       "test_roc_auc      0.993793\n",
       "test_accuracy     0.956607\n",
       "dtype: float64"
      ]
     },
     "execution_count": 79,
     "metadata": {},
     "output_type": "execute_result"
    }
   ],
   "source": [
    "xgb_clf = xgb.XGBClassifier(random_state=42, use_label_encoder=False, verbosity=0)\n",
    "cross_val(cv, xgb_clf)"
   ]
  },
  {
   "cell_type": "markdown",
   "id": "abbc9475",
   "metadata": {},
   "source": [
    "L'accuracy i el valor AUC de XGBoost en fase de validació son els més alts dels tres models. Tot i això, hem de comprovar que no sigui degut a un overfitting."
   ]
  },
  {
   "cell_type": "code",
   "execution_count": 80,
   "id": "ed0a0ad6",
   "metadata": {
    "scrolled": false
   },
   "outputs": [
    {
     "data": {
      "text/plain": [
       "0.9483753769468055"
      ]
     },
     "execution_count": 80,
     "metadata": {},
     "output_type": "execute_result"
    }
   ],
   "source": [
    "xgb_clf.fit(X_tsample,y_tsample)\n",
    "xgb_pred = xgb_clf.predict(X_test)\n",
    "metrics.accuracy_score(y_test, xgb_pred)"
   ]
  },
  {
   "cell_type": "code",
   "execution_count": 85,
   "id": "ab165f3d",
   "metadata": {},
   "outputs": [
    {
     "data": {
      "text/plain": [
       "<AxesSubplot:>"
      ]
     },
     "execution_count": 85,
     "metadata": {},
     "output_type": "execute_result"
    },
    {
     "data": {
      "image/png": "[encoded data removed]",
      "text/plain": [
       "<Figure size 360x360 with 2 Axes>"
      ]
     },
     "metadata": {},
     "output_type": "display_data"
    }
   ],
   "source": [
    "sns.set(rc={'figure.figsize':(5, 5)})\n",
    "sns.heatmap(metrics.confusion_matrix(y_test, xgb_pred), annot=True, fmt='.9g')"
   ]
  },
  {
   "cell_type": "code",
   "execution_count": 82,
   "id": "1b495094",
   "metadata": {},
   "outputs": [
    {
     "data": {
      "text/plain": [
       "0.916868207186768"
      ]
     },
     "execution_count": 82,
     "metadata": {},
     "output_type": "execute_result"
    }
   ],
   "source": [
    "metrics.roc_auc_score(y_test, xgb_pred)"
   ]
  },
  {
   "cell_type": "markdown",
   "id": "45b14bf5",
   "metadata": {},
   "source": [
    "L'XGBoost estava una mica overfitted, però tot i així ha superat l'efectivitat dels altres dos models, aconseguint uns valors molt alts d'accuracy y valor AUC.\n",
    "\n",
    "A més, podem observar en la matriu de confusió que, en relació a la regressió logística, tot i haver pujat en 2k els False Positives, ha aconseguit baixar a la meitat els False Negatives"
   ]
  },
  {
   "cell_type": "markdown",
   "id": "c16b3605",
   "metadata": {},
   "source": [
    "Representarem gràficament a quines variables li ha donat més importància el model XGBoost. Veiem que la durada del vol ha sigut molt significativa (prevista i real), així com l'hora d'arribada, a la hora de predir si el vol tindria retràs o no."
   ]
  },
  {
   "cell_type": "code",
   "execution_count": 86,
   "id": "b0790602",
   "metadata": {
    "scrolled": false
   },
   "outputs": [
    {
     "data": {
      "image/png": "[encoded data removed]",
      "text/plain": [
       "<Figure size 1440x1440 with 1 Axes>"
      ]
     },
     "metadata": {},
     "output_type": "display_data"
    }
   ],
   "source": [
    "plt.rcParams['figure.figsize'] = [20, 20]\n",
    "xgb.plot_importance(xgb_clf)\n",
    "plt.show()"
   ]
  },
  {
   "cell_type": "markdown",
   "id": "fd5b3288",
   "metadata": {},
   "source": [
    "- Exercici 3\n",
    "\n",
    "Entrena’ls utilitzant els diferents paràmetres que admeten."
   ]
  },
  {
   "cell_type": "markdown",
   "id": "90fdd113",
   "metadata": {},
   "source": [
    "Realitzarem un Halving Search amb diferents paràmetres per a cada model i observarem quins son els que millor han funcionat."
   ]
  },
  {
   "cell_type": "code",
   "execution_count": 87,
   "id": "52425ebe",
   "metadata": {},
   "outputs": [],
   "source": [
    "param_grid = {\n",
    "    'tree': {\n",
    "        'model': DecisionTreeClassifier(random_state=42),\n",
    "        'params' : {\n",
    "            'max_depth': [5, 7, 12],\n",
    "            'criterion': ['gini', 'entropy']\n",
    "        }  \n",
    "    },\n",
    "    'log': {\n",
    "        'model': LogisticRegression(random_state=42, solver='saga'),\n",
    "        'params' : {\n",
    "            'C': [1,5,10]\n",
    "        }\n",
    "    },\n",
    "    'xgb_clf' : {\n",
    "        'model': xgb.XGBClassifier(random_state=42, use_label_encoder=False, verbosity=0),\n",
    "        'params': {\n",
    "            'learning_rate': [0.3, 0.5],\n",
    "            'max_depth': [3, 7, 15], \n",
    "            'n_estimators': [150, 200]\n",
    "        }\n",
    "    }\n",
    "}"
   ]
  },
  {
   "cell_type": "code",
   "execution_count": 88,
   "id": "b74112a6",
   "metadata": {
    "scrolled": true
   },
   "outputs": [
    {
     "data": {
      "text/html": [
       "<div>\n",
       "<style scoped>\n",
       "    .dataframe tbody tr th:only-of-type {\n",
       "        vertical-align: middle;\n",
       "    }\n",
       "\n",
       "    .dataframe tbody tr th {\n",
       "        vertical-align: top;\n",
       "    }\n",
       "\n",
       "    .dataframe thead th {\n",
       "        text-align: right;\n",
       "    }\n",
       "</style>\n",
       "<table border=\"1\" class=\"dataframe\">\n",
       "  <thead>\n",
       "    <tr style=\"text-align: right;\">\n",
       "      <th></th>\n",
       "      <th>model</th>\n",
       "      <th>best_score</th>\n",
       "      <th>best_params</th>\n",
       "    </tr>\n",
       "  </thead>\n",
       "  <tbody>\n",
       "    <tr>\n",
       "      <th>0</th>\n",
       "      <td>tree</td>\n",
       "      <td>0.856769</td>\n",
       "      <td>{'criterion': 'entropy', 'max_depth': 12}</td>\n",
       "    </tr>\n",
       "    <tr>\n",
       "      <th>1</th>\n",
       "      <td>log</td>\n",
       "      <td>0.927442</td>\n",
       "      <td>{'C': 5}</td>\n",
       "    </tr>\n",
       "    <tr>\n",
       "      <th>2</th>\n",
       "      <td>xgb_clf</td>\n",
       "      <td>0.970250</td>\n",
       "      <td>{'learning_rate': 0.5, 'max_depth': 7, 'n_esti...</td>\n",
       "    </tr>\n",
       "  </tbody>\n",
       "</table>\n",
       "</div>"
      ],
      "text/plain": [
       "     model  best_score                                        best_params\n",
       "0     tree    0.856769          {'criterion': 'entropy', 'max_depth': 12}\n",
       "1      log    0.927442                                           {'C': 5}\n",
       "2  xgb_clf    0.970250  {'learning_rate': 0.5, 'max_depth': 7, 'n_esti..."
      ]
     },
     "execution_count": 88,
     "metadata": {},
     "output_type": "execute_result"
    }
   ],
   "source": [
    "scores = []\n",
    "\n",
    "for model_name, mp in param_grid.items():\n",
    "    clf =  HalvingGridSearchCV(mp['model'], mp['params'], cv=3, return_train_score=False, random_state=42, verbose=0)\n",
    "    clf.fit(X_tsample, y_tsample)\n",
    "    scores.append({\n",
    "        'model': model_name,\n",
    "        'best_score': clf.best_score_,\n",
    "        'best_params': clf.best_params_\n",
    "    })\n",
    "    \n",
    "df = pd.DataFrame(scores,columns=['model','best_score','best_params'])\n",
    "df"
   ]
  },
  {
   "cell_type": "markdown",
   "id": "aa952ba2",
   "metadata": {},
   "source": [
    "Visualitzem amb més claredat els paràmetres escollits pel Halving Search:"
   ]
  },
  {
   "cell_type": "code",
   "execution_count": 89,
   "id": "7a3eab6b",
   "metadata": {},
   "outputs": [
    {
     "name": "stdout",
     "output_type": "stream",
     "text": [
      "(0, {'criterion': 'entropy', 'max_depth': 12})\n",
      "(1, {'C': 5})\n",
      "(2, {'learning_rate': 0.5, 'max_depth': 7, 'n_estimators': 200})\n"
     ]
    }
   ],
   "source": [
    "for item in df.best_params.iteritems():\n",
    "    print(item)"
   ]
  },
  {
   "cell_type": "markdown",
   "id": "0acfa5bc",
   "metadata": {},
   "source": [
    "Entrenarem els models en base a aquestos paràmetres i comprovarem si hi ha una millora en la predicció."
   ]
  },
  {
   "cell_type": "code",
   "execution_count": 90,
   "id": "ede835bb",
   "metadata": {},
   "outputs": [],
   "source": [
    "params = {\n",
    "    'tree': {'model': DecisionTreeClassifier(random_state=42, max_depth=12, criterion='entropy')},  \n",
    "    'log': {'model': LogisticRegression(random_state=42, solver='saga', C=10)},\n",
    "    'xgb_clf' : {'model': xgb.XGBClassifier(random_state=42, use_label_encoder=False, max_depth=7, n_estimators= 200, verbosity=0, learning_rate=0.5)}\n",
    "}"
   ]
  },
  {
   "cell_type": "code",
   "execution_count": 78,
   "id": "35860097",
   "metadata": {
    "scrolled": true
   },
   "outputs": [
    {
     "data": {
      "image/png": "[encoded data removed]",
      "text/plain": [
       "<Figure size 1440x360 with 6 Axes>"
      ]
     },
     "metadata": {},
     "output_type": "display_data"
    }
   ],
   "source": [
    "scores = []\n",
    "confusion_matrx = []\n",
    "fig, axs = plt.subplots(nrows=1, ncols=3, figsize=(20, 5))\n",
    "i=0\n",
    "\n",
    "for model_name, mp in params.items():\n",
    "    mp['model'].fit(X_tsample,y_tsample)\n",
    "    pred = mp['model'].predict(X_test)\n",
    "    accuracy = metrics.accuracy_score(y_test, pred)\n",
    "    auc = metrics.roc_auc_score(y_test, pred)\n",
    "    scores.append({\n",
    "        'model': model_name,\n",
    "        'accuracy': accuracy,\n",
    "        'auc': auc\n",
    "    })\n",
    "    \n",
    "    sns.heatmap(metrics.confusion_matrix(y_test, pred), annot=True, fmt='.9g', ax=axs[i])\n",
    "    axs[i].set_title(model_name)\n",
    "    i+=1\n",
    "    \n",
    "df = pd.DataFrame(scores,columns=['model', 'accuracy', 'auc'])"
   ]
  },
  {
   "cell_type": "code",
   "execution_count": 76,
   "id": "d35886f2",
   "metadata": {
    "scrolled": true
   },
   "outputs": [
    {
     "data": {
      "text/html": [
       "<div>\n",
       "<style scoped>\n",
       "    .dataframe tbody tr th:only-of-type {\n",
       "        vertical-align: middle;\n",
       "    }\n",
       "\n",
       "    .dataframe tbody tr th {\n",
       "        vertical-align: top;\n",
       "    }\n",
       "\n",
       "    .dataframe thead th {\n",
       "        text-align: right;\n",
       "    }\n",
       "</style>\n",
       "<table border=\"1\" class=\"dataframe\">\n",
       "  <thead>\n",
       "    <tr style=\"text-align: right;\">\n",
       "      <th></th>\n",
       "      <th>model</th>\n",
       "      <th>accuracy</th>\n",
       "      <th>auc</th>\n",
       "    </tr>\n",
       "  </thead>\n",
       "  <tbody>\n",
       "    <tr>\n",
       "      <th>0</th>\n",
       "      <td>tree</td>\n",
       "      <td>0.849691</td>\n",
       "      <td>0.883172</td>\n",
       "    </tr>\n",
       "    <tr>\n",
       "      <th>1</th>\n",
       "      <td>log</td>\n",
       "      <td>0.923258</td>\n",
       "      <td>0.920115</td>\n",
       "    </tr>\n",
       "    <tr>\n",
       "      <th>2</th>\n",
       "      <td>xgb_clf</td>\n",
       "      <td>0.991682</td>\n",
       "      <td>0.985420</td>\n",
       "    </tr>\n",
       "  </tbody>\n",
       "</table>\n",
       "</div>"
      ],
      "text/plain": [
       "     model  accuracy       auc\n",
       "0     tree  0.849691  0.883172\n",
       "1      log  0.923258  0.920115\n",
       "2  xgb_clf  0.991682  0.985420"
      ]
     },
     "execution_count": 76,
     "metadata": {},
     "output_type": "execute_result"
    }
   ],
   "source": [
    "df"
   ]
  },
  {
   "cell_type": "markdown",
   "id": "19b3c568",
   "metadata": {},
   "source": [
    "Observem que hi ha hagut una millora molt gran: l'xgb_clf ha aconseguit una accuracy de 0,99 i un valor AUC de 0,985. Veiem que els False Positives (1524) i False Negatives (3769) son molt petits. L'XGBoost aconsegueix una efectivitat óptima a la hora de predir els vols retrasats."
   ]
  }
 ],
 "metadata": {
  "kernelspec": {
   "display_name": "Python 3",
   "language": "python",
   "name": "python3"
  },
  "language_info": {
   "codemirror_mode": {
    "name": "ipython",
    "version": 3
   },
   "file_extension": ".py",
   "mimetype": "text/x-python",
   "name": "python",
   "nbconvert_exporter": "python",
   "pygments_lexer": "ipython3",
   "version": "3.8.8"
  }
 },
 "nbformat": 4,
 "nbformat_minor": 5
}
